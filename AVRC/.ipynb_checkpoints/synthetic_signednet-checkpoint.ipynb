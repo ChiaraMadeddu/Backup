{
 "cells": [
  {
   "cell_type": "code",
   "execution_count": 1,
   "metadata": {
    "collapsed": true
   },
   "outputs": [],
   "source": [
    "import random\n",
    "import re\n",
    "import networkx as nx\n",
    "from networkx.drawing.nx_agraph import graphviz_layout\n",
    "import matplotlib.pyplot as plt\n",
    "import dzcnapy_plotlib as dzcnapy"
   ]
  },
  {
   "cell_type": "markdown",
   "metadata": {},
   "source": [
    "# Funzioni"
   ]
  },
  {
   "cell_type": "code",
   "execution_count": 25,
   "metadata": {
    "collapsed": true
   },
   "outputs": [],
   "source": [
    "def triangleSign(x, G):\n",
    "    return G[x[0]][x[1]]['weight']*G[x[0]][x[2]]['weight']*G[x[1]][x[2]]['weight']"
   ]
  },
  {
   "cell_type": "code",
   "execution_count": 3,
   "metadata": {
    "collapsed": true
   },
   "outputs": [],
   "source": [
    "def count_utriangles(triadi):\n",
    "    c=0\n",
    "    for t in triadi:\n",
    "        if t[1]==-1:\n",
    "            c=c+1\n",
    "    return c/len(triadi)"
   ]
  },
  {
   "cell_type": "code",
   "execution_count": 4,
   "metadata": {},
   "outputs": [
    {
     "ename": "NameError",
     "evalue": "name 'G' is not defined",
     "output_type": "error",
     "traceback": [
      "\u001b[1;31m---------------------------------------------------------------------------\u001b[0m",
      "\u001b[1;31mNameError\u001b[0m                                 Traceback (most recent call last)",
      "\u001b[1;32m<ipython-input-4-9ed14b6d9a00>\u001b[0m in \u001b[0;36m<module>\u001b[1;34m()\u001b[0m\n\u001b[1;32m----> 1\u001b[1;33m \u001b[0mH\u001b[0m \u001b[1;33m=\u001b[0m \u001b[0mG\u001b[0m\u001b[1;33m.\u001b[0m\u001b[0mcopy\u001b[0m\u001b[1;33m(\u001b[0m\u001b[1;33m)\u001b[0m\u001b[1;33m\u001b[0m\u001b[0m\n\u001b[0m",
      "\u001b[1;31mNameError\u001b[0m: name 'G' is not defined"
     ]
    }
   ],
   "source": [
    "H = G.copy()"
   ]
  },
  {
   "cell_type": "code",
   "execution_count": 234,
   "metadata": {},
   "outputs": [],
   "source": [
    "G = H.copy()"
   ]
  },
  {
   "cell_type": "markdown",
   "metadata": {},
   "source": [
    "# Bilanciamento"
   ]
  },
  {
   "cell_type": "code",
   "execution_count": 5,
   "metadata": {
    "collapsed": true
   },
   "outputs": [],
   "source": [
    "# Generate and draw random networks\n",
    "nn = 30\n",
    "G = nx.complete_graph(nn)"
   ]
  },
  {
   "cell_type": "code",
   "execution_count": 6,
   "metadata": {
    "collapsed": true
   },
   "outputs": [],
   "source": [
    "num_nodes = random.randint(0,nn)\n",
    "group1 = []\n",
    "for i in range(1,num_nodes):\n",
    "    ri = random.randint(0,nn-1)\n",
    "    if ri not in group1:\n",
    "        group1.append(ri)\n",
    "        \n",
    "group2 = []\n",
    "for i in range(0,nn):\n",
    "    if i not in group1:\n",
    "        group2.append(i)\n",
    "    "
   ]
  },
  {
   "cell_type": "code",
   "execution_count": 7,
   "metadata": {
    "collapsed": true
   },
   "outputs": [
    {
     "name": "stdout",
     "output_type": "stream",
     "text": [
      "[8, 0, 27, 21, 7, 2, 18, 28, 11, 23, 20, 29, 4, 10, 15, 24, 16, 26]\n",
      "[1, 3, 5, 6, 9, 12, 13, 14, 17, 19, 22, 25]\n"
     ]
    }
   ],
   "source": [
    "print(group1)   \n",
    "print(group2)"
   ]
  },
  {
   "cell_type": "code",
   "execution_count": 8,
   "metadata": {
    "collapsed": true
   },
   "outputs": [],
   "source": [
    "edges = list(G.edges().data())\n",
    "\n",
    "for e in edges:\n",
    "    if (e[0] in group1 and e[1] in group1) or (e[0] in group2 and e[1] in group2):\n",
    "        G[e[0]][e[1]]['weight'] = 1\n",
    "    else:\n",
    "        G[e[0]][e[1]]['weight'] = -1"
   ]
  },
  {
   "cell_type": "code",
   "execution_count": 9,
   "metadata": {
    "collapsed": true
   },
   "outputs": [
    {
     "name": "stdout",
     "output_type": "stream",
     "text": [
      "0.8988505747126436\n"
     ]
    }
   ],
   "source": [
    "tr = 0.9\n",
    "while nx.density(G) > tr:\n",
    "    edges = list(G.edges().data())\n",
    "    ri = random.randint(0,len(edges)-1)\n",
    "    e = edges[ri]\n",
    "    G.remove_edge(e[0],e[1])\n",
    "print(nx.density(G))"
   ]
  },
  {
   "cell_type": "code",
   "execution_count": 10,
   "metadata": {
    "collapsed": true
   },
   "outputs": [
    {
     "name": "stdout",
     "output_type": "stream",
     "text": [
      "196\n"
     ]
    }
   ],
   "source": [
    "c = 0 \n",
    "for e in list(G.edges().data()):\n",
    "    if e[2]['weight'] == -1:\n",
    "        c=c+1\n",
    "print(c)"
   ]
  },
  {
   "cell_type": "code",
   "execution_count": 11,
   "metadata": {},
   "outputs": [
    {
     "data": {
      "text/plain": [
       "True"
      ]
     },
     "execution_count": 11,
     "metadata": {},
     "output_type": "execute_result"
    }
   ],
   "source": [
    "nx.is_connected(G)"
   ]
  },
  {
   "cell_type": "code",
   "execution_count": 12,
   "metadata": {},
   "outputs": [
    {
     "ename": "KeyboardInterrupt",
     "evalue": "",
     "output_type": "error",
     "traceback": [
      "\u001b[1;31m---------------------------------------------------------------------------\u001b[0m",
      "\u001b[1;31mKeyboardInterrupt\u001b[0m                         Traceback (most recent call last)",
      "\u001b[1;32m<ipython-input-12-baf6f61b91dd>\u001b[0m in \u001b[0;36m<module>\u001b[1;34m()\u001b[0m\n\u001b[0;32m      1\u001b[0m \u001b[0mall_cliques\u001b[0m \u001b[1;33m=\u001b[0m \u001b[0mnx\u001b[0m\u001b[1;33m.\u001b[0m\u001b[0menumerate_all_cliques\u001b[0m\u001b[1;33m(\u001b[0m\u001b[0mG\u001b[0m\u001b[1;33m)\u001b[0m\u001b[1;33m\u001b[0m\u001b[0m\n\u001b[1;32m----> 2\u001b[1;33m \u001b[0mtriad_cliques\u001b[0m \u001b[1;33m=\u001b[0m \u001b[1;33m[\u001b[0m\u001b[1;33m[\u001b[0m\u001b[0mx\u001b[0m\u001b[1;33m,\u001b[0m\u001b[0mtriangleSign\u001b[0m\u001b[1;33m(\u001b[0m\u001b[0mx\u001b[0m\u001b[1;33m,\u001b[0m\u001b[0mG\u001b[0m\u001b[1;33m)\u001b[0m\u001b[1;33m]\u001b[0m \u001b[1;32mfor\u001b[0m \u001b[0mx\u001b[0m \u001b[1;32min\u001b[0m \u001b[0mall_cliques\u001b[0m \u001b[1;32mif\u001b[0m \u001b[0mlen\u001b[0m\u001b[1;33m(\u001b[0m\u001b[0mx\u001b[0m\u001b[1;33m)\u001b[0m\u001b[1;33m==\u001b[0m\u001b[1;36m3\u001b[0m \u001b[1;33m]\u001b[0m\u001b[1;33m\u001b[0m\u001b[0m\n\u001b[0m\u001b[0;32m      3\u001b[0m \u001b[0mu_triangle\u001b[0m \u001b[1;33m=\u001b[0m \u001b[0mcount_utriangles\u001b[0m\u001b[1;33m(\u001b[0m\u001b[0mtriad_cliques\u001b[0m\u001b[1;33m)\u001b[0m\u001b[1;33m\u001b[0m\u001b[0m\n\u001b[0;32m      4\u001b[0m \u001b[0mprint\u001b[0m\u001b[1;33m(\u001b[0m\u001b[0mu_triangle\u001b[0m\u001b[1;33m)\u001b[0m\u001b[1;33m\u001b[0m\u001b[0m\n",
      "\u001b[1;32m<ipython-input-12-baf6f61b91dd>\u001b[0m in \u001b[0;36m<listcomp>\u001b[1;34m(.0)\u001b[0m\n\u001b[0;32m      1\u001b[0m \u001b[0mall_cliques\u001b[0m \u001b[1;33m=\u001b[0m \u001b[0mnx\u001b[0m\u001b[1;33m.\u001b[0m\u001b[0menumerate_all_cliques\u001b[0m\u001b[1;33m(\u001b[0m\u001b[0mG\u001b[0m\u001b[1;33m)\u001b[0m\u001b[1;33m\u001b[0m\u001b[0m\n\u001b[1;32m----> 2\u001b[1;33m \u001b[0mtriad_cliques\u001b[0m \u001b[1;33m=\u001b[0m \u001b[1;33m[\u001b[0m\u001b[1;33m[\u001b[0m\u001b[0mx\u001b[0m\u001b[1;33m,\u001b[0m\u001b[0mtriangleSign\u001b[0m\u001b[1;33m(\u001b[0m\u001b[0mx\u001b[0m\u001b[1;33m,\u001b[0m\u001b[0mG\u001b[0m\u001b[1;33m)\u001b[0m\u001b[1;33m]\u001b[0m \u001b[1;32mfor\u001b[0m \u001b[0mx\u001b[0m \u001b[1;32min\u001b[0m \u001b[0mall_cliques\u001b[0m \u001b[1;32mif\u001b[0m \u001b[0mlen\u001b[0m\u001b[1;33m(\u001b[0m\u001b[0mx\u001b[0m\u001b[1;33m)\u001b[0m\u001b[1;33m==\u001b[0m\u001b[1;36m3\u001b[0m \u001b[1;33m]\u001b[0m\u001b[1;33m\u001b[0m\u001b[0m\n\u001b[0m\u001b[0;32m      3\u001b[0m \u001b[0mu_triangle\u001b[0m \u001b[1;33m=\u001b[0m \u001b[0mcount_utriangles\u001b[0m\u001b[1;33m(\u001b[0m\u001b[0mtriad_cliques\u001b[0m\u001b[1;33m)\u001b[0m\u001b[1;33m\u001b[0m\u001b[0m\n\u001b[0;32m      4\u001b[0m \u001b[0mprint\u001b[0m\u001b[1;33m(\u001b[0m\u001b[0mu_triangle\u001b[0m\u001b[1;33m)\u001b[0m\u001b[1;33m\u001b[0m\u001b[0m\n",
      "\u001b[1;32m~\\Anaconda3\\lib\\site-packages\\networkx\\algorithms\\clique.py\u001b[0m in \u001b[0;36menumerate_all_cliques\u001b[1;34m(G)\u001b[0m\n\u001b[0;32m     97\u001b[0m             queue.append((chain(base, [u]),\n\u001b[0;32m     98\u001b[0m                           filter(nbrs[u].__contains__,\n\u001b[1;32m---> 99\u001b[1;33m                                  islice(cnbrs, i + 1, None))))\n\u001b[0m\u001b[0;32m    100\u001b[0m \u001b[1;33m\u001b[0m\u001b[0m\n\u001b[0;32m    101\u001b[0m \u001b[1;33m\u001b[0m\u001b[0m\n",
      "\u001b[1;31mKeyboardInterrupt\u001b[0m: "
     ]
    }
   ],
   "source": [
    "all_cliques = nx.enumerate_all_cliques(G)\n",
    "triad_cliques = [[x,triangleSign(x,G)] for x in all_cliques if len(x)==3 ]\n",
    "u_triangle = count_utriangles(triad_cliques)\n",
    "print(u_triangle)"
   ]
  },
  {
   "cell_type": "code",
   "execution_count": 13,
   "metadata": {
    "collapsed": true
   },
   "outputs": [],
   "source": [
    "file = open(\"./_tesiGrafi/graph3d_1.csv\",\"w\") \n",
    "file.write(\"Source,Target,Type,Id,Label,timeset,Weight,Sign,eigvalue\\n\")\n",
    "i=0\n",
    "for e in G.edges().data():\n",
    "    i=i+1\n",
    "    if e[2]['weight'] == 1:\n",
    "        sign = \"+\"\n",
    "    else:\n",
    "        sign = \"-\"\n",
    "    file.write(str(e[0]) + \",\" + str(e[1]) + \",Undirected,\" + str(i) + \",\" + sign + \",,1,\" + sign + \",0\\n\")\n",
    "file.close() "
   ]
  },
  {
   "cell_type": "code",
   "execution_count": 14,
   "metadata": {
    "collapsed": true
   },
   "outputs": [],
   "source": [
    "nx.write_graphml(G,'./_tesiGrafi/graph3d_1.graphml')"
   ]
  },
  {
   "cell_type": "markdown",
   "metadata": {},
   "source": [
    "# Sbilanciamento"
   ]
  },
  {
   "cell_type": "code",
   "execution_count": 617,
   "metadata": {},
   "outputs": [
    {
     "name": "stdout",
     "output_type": "stream",
     "text": [
      "0.4166666666666667\n"
     ]
    }
   ],
   "source": [
    "all_cliques = nx.enumerate_all_cliques(H)\n",
    "triad_cliques = [[x,triangleSign(x,H)] for x in all_cliques if len(x)==3 ]\n",
    "u_triangle = count_utriangles(triad_cliques)\n",
    "print(u_triangle)"
   ]
  },
  {
   "cell_type": "code",
   "execution_count": 627,
   "metadata": {},
   "outputs": [],
   "source": [
    "H = G.copy()"
   ]
  },
  {
   "cell_type": "code",
   "execution_count": 645,
   "metadata": {},
   "outputs": [
    {
     "name": "stdout",
     "output_type": "stream",
     "text": [
      "0.2\n"
     ]
    }
   ],
   "source": [
    "G = H.copy()\n",
    "print(nx.density(H))"
   ]
  },
  {
   "cell_type": "code",
   "execution_count": 646,
   "metadata": {},
   "outputs": [],
   "source": [
    "u_triangle = 0\n",
    "tr = 0.99\n",
    "edges = list(G.edges().data())\n",
    "all_cliques = nx.enumerate_all_cliques(G)\n",
    "triad_cliques = [[x,triangleSign(x,G)] for x in all_cliques if len(x)==3 ]\n"
   ]
  },
  {
   "cell_type": "code",
   "execution_count": 647,
   "metadata": {},
   "outputs": [
    {
     "name": "stdout",
     "output_type": "stream",
     "text": [
      "1.0\n"
     ]
    }
   ],
   "source": [
    "while u_triangle<=tr:  \n",
    "\n",
    "    while True:\n",
    "        ri = random.randint(0,len(G.edges())-1) \n",
    "        source = edges[ri][0] \n",
    "        target = edges[ri][1]\n",
    "        if G[source][target]['weight'] == 1:\n",
    "            break\n",
    "      \n",
    "    \n",
    "    G[source][target]['weight'] =  G[source][target]['weight']*-1\n",
    "    all_cliques = nx.enumerate_all_cliques(G)\n",
    "    triad_cliques = [[x,triangleSign(x,G)] for x in all_cliques if len(x)==3 ]\n",
    "    u_triangle = count_utriangles(triad_cliques)\n",
    "print(u_triangle)"
   ]
  },
  {
   "cell_type": "code",
   "execution_count": 4,
   "metadata": {},
   "outputs": [
    {
     "ename": "NameError",
     "evalue": "name 'nx' is not defined",
     "output_type": "error",
     "traceback": [
      "\u001b[1;31m---------------------------------------------------------------------------\u001b[0m",
      "\u001b[1;31mNameError\u001b[0m                                 Traceback (most recent call last)",
      "\u001b[1;32m<ipython-input-4-897f0800e674>\u001b[0m in \u001b[0;36m<module>\u001b[1;34m()\u001b[0m\n\u001b[1;32m----> 1\u001b[1;33m \u001b[0mnx\u001b[0m\u001b[1;33m.\u001b[0m\u001b[0mis_connected\u001b[0m\u001b[1;33m(\u001b[0m\u001b[0mG\u001b[0m\u001b[1;33m)\u001b[0m\u001b[1;33m\u001b[0m\u001b[0m\n\u001b[0m",
      "\u001b[1;31mNameError\u001b[0m: name 'nx' is not defined"
     ]
    }
   ],
   "source": [
    "nx.is_connected(G)"
   ]
  },
  {
   "cell_type": "markdown",
   "metadata": {},
   "source": [
    "# Grafi triangoli"
   ]
  },
  {
   "cell_type": "code",
   "execution_count": 69,
   "metadata": {},
   "outputs": [],
   "source": [
    "nn = 9\n",
    "Gb = nx.Graph()\n"
   ]
  },
  {
   "cell_type": "code",
   "execution_count": 70,
   "metadata": {},
   "outputs": [
    {
     "name": "stdout",
     "output_type": "stream",
     "text": [
      "('0', '1', 'Undirected', '0', '+', '', '1', '+\\n')\n",
      "('0', '3', 'Undirected', '1', '+', '', '1', '+\\n')\n",
      "('1', '2', 'Undirected', '2', '-', '', '1', '-\\n')\n",
      "('1', '3', 'Undirected', '3', '+', '', '1', '+\\n')\n",
      "('1', '4', 'Undirected', '4', '-', '', '1', '-\\n')\n",
      "('1', '7', 'Undirected', '5', '+', '', '1', '+\\n')\n",
      "('2', '4', 'Undirected', '6', '+', '', '1', '+\\n')\n",
      "('2', '5', 'Undirected', '7', '+', '', '1', '+\\n')\n",
      "('3', '4', 'Undirected', '8', '-', '', '1', '-\\n')\n",
      "('3', '6', 'Undirected', '9', '+', '', '1', '+\\n')\n",
      "('3', '7', 'Undirected', '10', '+', '', '1', '+\\n')\n",
      "('4', '5', 'Undirected', '11', '+', '', '1', '+\\n')\n",
      "('4', '7', 'Undirected', '12', '-', '', '1', '-\\n')\n",
      "('4', '8', 'Undirected', '13', '+', '', '1', '+\\n')\n",
      "('5', '7', 'Undirected', '14', '-', '', '1', '-\\n')\n",
      "('5', '8', 'Undirected', '15', '+', '', '1', '+\\n')\n",
      "('6', '7', 'Undirected', '16', '+', '', '1', '+\\n')\n",
      "('7', '8', 'Undirected', '17', '-', '', '1', '-')\n",
      "# Nodes: 9\n",
      "# Edges: 18\n"
     ]
    }
   ],
   "source": [
    "j=0\n",
    "with open(\"graph.csv\") as file:\n",
    "    for line in file.readlines():\n",
    "        if j != 0:\n",
    "            nodes = tuple(x for x in line.split(\",\"))\n",
    "            n1, n2, t, i, lab,ts,w,s = nodes\n",
    "            if lab == \"-\":\n",
    "                we = -1\n",
    "            else:\n",
    "                we = 1\n",
    "            Gb.add_edge(n1,n2, weight=we)\n",
    "            print(nodes)\n",
    "        j = j+1\n",
    "n_edges=len(Gb.edges())\n",
    "n_nodes=len(Gb.nodes())\n",
    "\n",
    "print(\"# Nodes: {}\".format(n_nodes))\n",
    "print(\"# Edges: {}\".format(n_edges))"
   ]
  },
  {
   "cell_type": "code",
   "execution_count": 71,
   "metadata": {},
   "outputs": [
    {
     "name": "stdout",
     "output_type": "stream",
     "text": [
      "[('0', '1', {'weight': 1}), ('0', '3', {'weight': 1}), ('1', '2', {'weight': -1}), ('1', '3', {'weight': 1}), ('1', '4', {'weight': -1}), ('1', '7', {'weight': 1}), ('3', '4', {'weight': -1}), ('3', '6', {'weight': 1}), ('3', '7', {'weight': 1}), ('2', '4', {'weight': 1}), ('2', '5', {'weight': 1}), ('4', '5', {'weight': 1}), ('4', '7', {'weight': -1}), ('4', '8', {'weight': 1}), ('7', '5', {'weight': -1}), ('7', '6', {'weight': 1}), ('7', '8', {'weight': -1}), ('5', '8', {'weight': 1})]\n"
     ]
    }
   ],
   "source": [
    "print(Gb.edges(data=True))"
   ]
  },
  {
   "cell_type": "code",
   "execution_count": 83,
   "metadata": {},
   "outputs": [
    {
     "name": "stdout",
     "output_type": "stream",
     "text": [
      "bilanciati  1\n",
      "triangoli  1\n",
      "bilanciati  5\n",
      "triangoli  5\n",
      "bilanciati  5\n",
      "triangoli  5\n",
      "bilanciati  2\n",
      "triangoli  2\n",
      "bilanciati  8\n",
      "triangoli  8\n",
      "bilanciati  7\n",
      "triangoli  7\n",
      "bilanciati  4\n",
      "triangoli  4\n",
      "bilanciati  1\n",
      "triangoli  1\n",
      "bilanciati  3\n",
      "triangoli  3\n"
     ]
    }
   ],
   "source": [
    "for n in Gb.nodes():\n",
    "    print(\"bilanciati \",count_balanced(n))\n",
    "    print(\"triangoli \",nx.triangles(Gb,n))"
   ]
  },
  {
   "cell_type": "code",
   "execution_count": 73,
   "metadata": {},
   "outputs": [],
   "source": [
    "file = open(\"./_tesiGrafi/graph_b_triangles.csv\",\"w\") \n",
    "file.write(\"node;triangoli;triangoli_bil;triangoli_sbil;abs_value\\n\")\n",
    "i=0\n",
    "for n in Gb.nodes():\n",
    "    file.write(str(n) + \",\" + str(nx.triangles(n)) + \",Undirected,\" + str(i) + \",\" + sign + \",,1,\" + sign + \",0\\n\")\n",
    "file.close() "
   ]
  },
  {
   "cell_type": "code",
   "execution_count": 81,
   "metadata": {},
   "outputs": [],
   "source": [
    "def count_balanced(n):\n",
    "    all_cliques = nx.enumerate_all_cliques(Gb)\n",
    "    triad_cliques = [[x,triangleSign(x,Gb)] for x in all_cliques if len(x)==3 ]\n",
    "    c=0\n",
    "    for t in triad_cliques:\n",
    "        if n in t[0] and t[1]>0:\n",
    "            c=c+1\n",
    "    return c\n",
    "            "
   ]
  },
  {
   "cell_type": "code",
   "execution_count": 84,
   "metadata": {},
   "outputs": [
    {
     "name": "stdout",
     "output_type": "stream",
     "text": [
      "0\n",
      "1\n",
      "3\n",
      "2\n",
      "4\n",
      "7\n",
      "5\n",
      "6\n",
      "8\n"
     ]
    }
   ],
   "source": [
    "for n in Gb.nodes():\n",
    "    print(n)"
   ]
  },
  {
   "cell_type": "code",
   "execution_count": null,
   "metadata": {},
   "outputs": [],
   "source": []
  }
 ],
 "metadata": {
  "kernelspec": {
   "display_name": "Python 3",
   "language": "python",
   "name": "python3"
  },
  "language_info": {
   "codemirror_mode": {
    "name": "ipython",
    "version": 3
   },
   "file_extension": ".py",
   "mimetype": "text/x-python",
   "name": "python",
   "nbconvert_exporter": "python",
   "pygments_lexer": "ipython3",
   "version": "3.6.3"
  }
 },
 "nbformat": 4,
 "nbformat_minor": 2
}
