{
 "cells": [
  {
   "cell_type": "code",
   "execution_count": 1,
   "metadata": {},
   "outputs": [],
   "source": [
    "import networkx as nx\n",
    "import numpy as np\n",
    "import os"
   ]
  },
  {
   "cell_type": "code",
   "execution_count": 2,
   "metadata": {},
   "outputs": [],
   "source": [
    "file_email=\"email-Eu-core.txt\"\n",
    "file_dep=\"email-Eu-core-department-labels.txt\""
   ]
  },
  {
   "cell_type": "markdown",
   "metadata": {},
   "source": [
    "# Creazione del grafo"
   ]
  },
  {
   "cell_type": "code",
   "execution_count": 3,
   "metadata": {},
   "outputs": [
    {
     "name": "stdout",
     "output_type": "stream",
     "text": [
      "# Nodes: 1005\n",
      "# Edges: 25571\n"
     ]
    }
   ],
   "source": [
    "G = nx.DiGraph();\n",
    "id_length = 7\n",
    "\n",
    "#Reading the graph from the edge list\n",
    "#leggo il file email e creo la rete corrispondente\n",
    "with open(file_email) as file:\n",
    "    for line in file.readlines():\n",
    "        nodes = tuple(int(x) for x in line.split(\" \"))\n",
    "        n1, n2 = nodes\n",
    "        G.add_node(n1)\n",
    "        G.add_node(n2)\n",
    "        G.add_edge(n1,n2)\n",
    "        \n",
    "n_edges=len(G.edges())\n",
    "n_nodes=len(G.nodes())\n",
    "\n",
    "print(\"# Nodes: {}\".format(n_nodes))\n",
    "print(\"# Edges: {}\".format(n_edges))\n",
    "#nx.write_graphml(G_clique, \"graphs/network.graphml\")"
   ]
  },
  {
   "cell_type": "code",
   "execution_count": 4,
   "metadata": {},
   "outputs": [],
   "source": [
    "#leggo i dipartimenti del file e creo un dizionario associazione nodo-dipartimento\n",
    "departments = dict()\n",
    "with open(file_dep) as file:\n",
    "    for line in file:\n",
    "        row = tuple(int(x) for x in line.split(\" \"))\n",
    "        node,dep = row\n",
    "        departments[node] = dep\n",
    "        \n",
    "#aggiungo l'attributo del dipartimento alla rete\n",
    "nx.set_node_attributes(G, departments, \"department\")"
   ]
  },
  {
   "cell_type": "markdown",
   "metadata": {},
   "source": [
    " # Graph Meausures"
   ]
  },
  {
   "cell_type": "code",
   "execution_count": 5,
   "metadata": {},
   "outputs": [],
   "source": [
    "from matplotlib import pyplot as plt\n",
    "import networkx as nx\n",
    "import pandas as pd\n",
    "import numpy as np"
   ]
  },
  {
   "cell_type": "code",
   "execution_count": 6,
   "metadata": {},
   "outputs": [
    {
     "name": "stdout",
     "output_type": "stream",
     "text": [
      "Density: 0.02534\n"
     ]
    }
   ],
   "source": [
    "# density measures the fraction of existing edges out of the possible edges\n",
    "# directed networks: m/n(n-1)\n",
    "# undirectd networks: 2m/n(n-1)\n",
    "# this is much faster than calculating: nx.number_of_edges(G)/nx.non_edges(G)\n",
    "\n",
    "density=nx.density(G)\n",
    "print(\"Density: {:.5f}\".format(density))"
   ]
  },
  {
   "cell_type": "code",
   "execution_count": 7,
   "metadata": {},
   "outputs": [],
   "source": [
    "# Create the undirected version of the graph\n",
    "GUnd = nx.Graph(G)"
   ]
  },
  {
   "cell_type": "code",
   "execution_count": 8,
   "metadata": {},
   "outputs": [
    {
     "name": "stdout",
     "output_type": "stream",
     "text": [
      "# of triangles:  105461.0\n"
     ]
    }
   ],
   "source": [
    "num_triangles = sum(nx.triangles(GUnd).values())/3\n",
    "print(\"# of triangles: \",num_triangles)"
   ]
  },
  {
   "cell_type": "code",
   "execution_count": 9,
   "metadata": {},
   "outputs": [],
   "source": [
    "# Function nx.clustering(G, nodes=None) calculates the clustering coefficient of the nodes passed.\n",
    "# That can be interpreted as a measure of the prevalence of triangles in an egocentric network. \n",
    "# The clustering coefficient is the fraction of possible triangles that contain the ego node and exist. \n",
    "# This measure is undefined for directed graphs; you must coerce a digraph to a undirected graph \n",
    "clustering_coeff = nx.clustering(GUnd)\n"
   ]
  },
  {
   "cell_type": "code",
   "execution_count": 10,
   "metadata": {},
   "outputs": [
    {
     "name": "stdout",
     "output_type": "stream",
     "text": [
      "Average Clustering: 0.3993549664221539\n"
     ]
    }
   ],
   "source": [
    "# Function nx.average_clustering calculates the mean clustering coefficient for all nodes of a simple network \n",
    "# (no loops, no directed or parallel edges).\n",
    "avg_clustering = nx.average_clustering(GUnd)\n",
    "print(\"Average Clustering: {}\".format(avg_clustering))"
   ]
  },
  {
   "cell_type": "code",
   "execution_count": 11,
   "metadata": {},
   "outputs": [
    {
     "name": "stdout",
     "output_type": "stream",
     "text": [
      "Transitivity: 0.22015\n"
     ]
    }
   ],
   "source": [
    "# The average clustering coefficient is not to be confused with the clustering coefficient of the \n",
    "# whole network—the fraction of all possible triangles that exist in the network. \n",
    "# The latter is known as transitivity, a measure of transitive closure (explained here). \n",
    "# networkx has a namesake function to calculate it, too:\n",
    "\n",
    "trans = nx.transitivity(G)\n",
    "print(\"Transitivity: {:.5f}\".format(trans))"
   ]
  },
  {
   "cell_type": "code",
   "execution_count": 12,
   "metadata": {},
   "outputs": [],
   "source": [
    "dict_deg = {node: val for (node, val) in G.degree()}\n",
    "dict_indeg  = {node: val for (node, val) in G.in_degree()}\n",
    "dict_outdeg = {node: val for (node, val) in G.out_degree()}\n",
    "dict_clco = nx.clustering(GUnd)"
   ]
  },
  {
   "cell_type": "code",
   "execution_count": null,
   "metadata": {},
   "outputs": [
    {
     "data": {
      "image/png": "[encoded data removed]",
      "text/plain": [
       "<matplotlib.figure.Figure at 0x1752b93f28>"
      ]
     },
     "metadata": {},
     "output_type": "display_data"
    }
   ],
   "source": [
    "# Plotting the degree correlated to the clustering coefficient\n",
    "deg_cc = pd.concat([pd.Series(dict_deg), pd.Series(dict_indeg), pd.Series(dict_outdeg), pd.Series(dict_clco)], axis=1)\n",
    "deg_cc.columns = (\"Degree\", \"In-Degree\", \"Out-Degree\",\"CC\")\n",
    "\n",
    "labels = [[\"Degree\", \"CC\"], [\"In-Degree\", \"CC\"], [\"Out-Degree\", \"CC\"]]\n",
    "\n",
    "data_deg = deg_cc[labels[0]].groupby(labels[0][0]).mean().reset_index()\n",
    "data_in  = deg_cc[labels[1]].groupby(labels[1][0]).mean().reset_index()\n",
    "data_out = deg_cc[labels[2]].groupby(labels[2][0]).mean().reset_index()\n",
    "data = [data_deg, data_in, data_out]\n",
    "\n",
    "f, (ax1, ax2, ax3) = plt.subplots(1, 3, sharey=True, sharex=True)\n",
    "f.set_figwidth(20)\n",
    "f.set_figheight(5)\n",
    "title = \"Degree_Vs_ClCoeff\"\n",
    "colors = ['dodgerblue','gold','violet']\n",
    "\n",
    "for names, df, ax, c in zip(labels, data, [ax1, ax2, ax3], colors):\n",
    "    values = df.values.astype(np.float)\n",
    "    ax.scatter(values[:,0], values[:,1],c=c, alpha=0.5)\n",
    "    ax.set_xlabel(names[0])\n",
    "    ax.set_ylabel(names[1])\n",
    "    ax.grid()\n",
    "f.suptitle(title)\n",
    "plt.savefig(\"images/{}.png\".format(title), dpi=600)\n",
    "plt.show()"
   ]
  },
  {
   "cell_type": "code",
   "execution_count": null,
   "metadata": {},
   "outputs": [],
   "source": [
    "f, (ax1, ax2, ax3) = plt.subplots(1, 3, sharex=True, sharey=True)\n",
    "f.set_figwidth(20)\n",
    "f.set_figheight(5)\n",
    "title = \"Degrees histograms\"\n",
    "\n",
    "data = [dict_deg, dict_indeg, dict_outdeg]\n",
    "for names, degrees, ax, c in zip(labels, data, [ax1, ax2, ax3], colors):\n",
    "    d = list(degrees.values())\n",
    "    bins = np.bincount(d)\n",
    "    ax.plot(np.arange(0,len(bins)), bins, c)\n",
    "    ax.set_xlim([1,250])\n",
    "    ax.set_ylim([1,250])\n",
    "    #ax.hist(degrees.values(), bins=100)\n",
    "    ax.set_yscale(\"log\")\n",
    "    ax.set_xlabel(names[0])\n",
    "    ax.set_ylabel(\"Occurences\")\n",
    "f.suptitle(title)\n",
    "plt.savefig(\"images/{}.png\".format(title), dpi=600)\n",
    "plt.show()"
   ]
  },
  {
   "cell_type": "code",
   "execution_count": null,
   "metadata": {},
   "outputs": [],
   "source": [
    "import dzcnapy_plotlib as dzcnapy\n",
    "from collections import Counter\n",
    "\n",
    "deg = nx.degree(G)\n",
    "x, y = zip(*Counter([d for n, d in deg]).items())\n",
    "\n",
    "plt.scatter(x, y, s=100, c=\"pink\")\n",
    "plt.xscale(\"log\")\n",
    "plt.yscale(\"log\")\n",
    "plt.legend()\n",
    "plt.xlim(0.9, max(x))\n",
    "plt.ylim(0.9, max(y))\n",
    "plt.xlabel(\"Degree\")\n",
    "plt.ylabel(\"Frequency\")\n",
    "dzcnapy.plot(\"panama-beneficiaries\")"
   ]
  },
  {
   "cell_type": "code",
   "execution_count": null,
   "metadata": {},
   "outputs": [],
   "source": [
    "deg_cc = pd.concat([pd.Series(dict_deg), pd.Series(dict_indeg), pd.Series(dict_outdeg), pd.Series(dict_clco)], axis=1)\n",
    "deg_cc.columns = (\"Degree\", \"In-Degree\", \"Out-Degree\",\"CC\")\n",
    "\n",
    "labels = [[\"Degree\", \"CC\"], [\"In-Degree\", \"CC\"], [\"Out-Degree\", \"CC\"]]\n",
    "\n",
    "data_deg = deg_cc[labels[0]].groupby(labels[0][0]).mean().reset_index()\n",
    "data_in  = deg_cc[labels[1]].groupby(labels[1][0]).mean().reset_index()\n",
    "data_out = deg_cc[labels[2]].groupby(labels[2][0]).mean().reset_index()\n",
    "data = [data_deg, data_in, data_out]\n",
    "\n",
    "means = deg_cc.mean(axis=0)\n",
    "std_devs = deg_cc.std(axis=0)\n",
    "print(\"MEAN VALUES\")\n",
    "print(means)\n",
    "print(\"\\nSTANDARD DEVIATIONS\")\n",
    "print(std_devs)"
   ]
  },
  {
   "cell_type": "markdown",
   "metadata": {},
   "source": [
    "# Comparison with random models"
   ]
  },
  {
   "cell_type": "code",
   "execution_count": 15,
   "metadata": {},
   "outputs": [
    {
     "name": "stdout",
     "output_type": "stream",
     "text": [
      "BA  1005 48654\n",
      "HK  1005 47750\n"
     ]
    }
   ],
   "source": [
    "# Generate and draw random networks\n",
    "m = int(np.round(means[\"Degree\"]))\n",
    "G_BA = nx.barabasi_albert_graph(len(G), m)\n",
    "G_HK = nx.powerlaw_cluster_graph(len(G), m, 0.5)\n",
    "print(\"BA \", len(G_BA), len(G_BA.edges()))\n",
    "print(\"HK \", len(G_HK), len(G_HK.edges()))"
   ]
  },
  {
   "cell_type": "code",
   "execution_count": 19,
   "metadata": {},
   "outputs": [],
   "source": [
    "dict_clco2 = nx.clustering(G_BA)\n",
    "dict_deg2 = {node: val for (node, val) in G_BA.degree()}\n",
    "dict_clco3 = nx.clustering(G_HK)\n",
    "dict_deg3 = {node: val for (node, val) in G_HK.degree()}"
   ]
  },
  {
   "cell_type": "code",
   "execution_count": 20,
   "metadata": {},
   "outputs": [
    {
     "data": {
      "image/png": "[encoded data removed]",
      "text/plain": [
       "<matplotlib.figure.Figure at 0x461c0635f8>"
      ]
     },
     "metadata": {},
     "output_type": "display_data"
    }
   ],
   "source": [
    "# Plotting the degree correlated to the clustering coefficient\n",
    "deg_cc2 = pd.concat([pd.Series(dict_deg2), pd.Series(dict_clco2)], axis=1)\n",
    "deg_cc2.columns = (\"Degree\",\"CC\")\n",
    "\n",
    "deg_cc3 = pd.concat([pd.Series(dict_deg3), pd.Series(dict_clco3)], axis=1)\n",
    "deg_cc3.columns = (\"Degree\",\"CC\")\n",
    "\n",
    "labels = [\"Degree\", \"CC\"]\n",
    "titles = [\"Original Graph\", \"Generated (Barabasi-Albert)\", \"Generated (Holme-Kim)\"]\n",
    "data_deg2 = deg_cc2[labels].groupby(labels[0]).mean().reset_index()\n",
    "data_deg3 = deg_cc3[labels].groupby(labels[0]).mean().reset_index()\n",
    "data = [data_deg, data_deg2, data_deg3]\n",
    "\n",
    "f, (ax1, ax2, ax3) = plt.subplots(1, 3, sharex=True)\n",
    "f.set_figwidth(20)\n",
    "f.set_figheight(5)\n",
    "title = \"Comparison with generated models (1)\"\n",
    "colors = ['red','gold','gold']\n",
    "\n",
    "for t, df, ax, c in zip(titles, data, [ax1, ax2, ax3], colors):\n",
    "    values = df.values.astype(np.float)\n",
    "    ax.scatter(values[:,0], values[:,1],c=c, alpha=0.5)\n",
    "    ax.set_xlabel(labels[0])\n",
    "    ax.set_ylabel(labels[1])\n",
    "    ax.set_title(t)\n",
    "    ax.grid()\n",
    "f.suptitle(title)\n",
    "plt.savefig(\"images/{}.png\".format(title), dpi=600)\n",
    "plt.show()"
   ]
  },
  {
   "cell_type": "code",
   "execution_count": 21,
   "metadata": {},
   "outputs": [
    {
     "name": "stdout",
     "output_type": "stream",
     "text": [
      "[ 0 71 48 31 33 18 23 26 21  8  9 15 10  6 14 14 12 10  5 11 11  4  9 10  5\n",
      " 10  5 12 13  6  7 12 15  5  4  6 14 14  6  5 11 10  6 10  9  6 10  5  5 14\n",
      "  8  3  3  5 11  3  3  4  9  7  8  3  7  7  6  2  3  5  4  4  3  2  2  4  7\n",
      "  5  5  4  1  9  8  1  6  5  3  2  3  3  6  1  5  4  1  2  3  1  5  4  1  5\n",
      "  1  2  2  4  2  0  2  2  3  1  5  2  2  0  3  1  3  3  4  1  1  1  0  0  6\n",
      "  0  1  2  1  0  1  0  1  4  1  1  1  1  2  1  2  3  1  0  3  1  1  0  1  1\n",
      "  0  0  0  0  0  1  1  0  1  0  0  1  1  2  1  1  2  1  0  2  2  0  0  0  1\n",
      "  2  0  0  1  0  0  1  0  0  0  0  0  0  0  0  0  0  0  2  0  1  0  0  0  1\n",
      "  0  1  1  2  1  1  0  0  1  1  0  0  0  1  0  1  1  0  2  3  0  0  0  1  0\n",
      "  0  0  0  0  0  1  0  0  1  2  0  1  0  1  0  1  0  1  0  0  0  0  0  0  1\n",
      "  0  0  1  0  0  0  0  0  0  0  0  0  0  1  0  0  0  0  0  0  0  0  1  0  0\n",
      "  1  0  0  0  0  1  0  0  0  0  0  0  0  0  0  0  0  0  0  0  0  0  0  0  0\n",
      "  0  0  1  0  0  0  0  0  1  0  0  0  0  0  0  0  0  0  0  0  0  0  0  0  0\n",
      "  0  0  0  0  0  0  0  0  0  0  0  0  0  0  0  0  0  0  0  0  0  0  0  1  0\n",
      "  0  0  0  0  0  0  1  0  0  0  0  0  0  0  0  0  0  0  0  1  0  0  0  1  0\n",
      "  0  0  0  0  1  0  0  0  0  0  0  0  0  0  0  0  0  0  0  0  0  0  0  0  0\n",
      "  0  0  0  0  0  0  0  0  0  0  0  0  0  0  0  0  0  0  0  0  0  0  0  0  0\n",
      "  0  0  0  0  0  0  0  0  0  0  0  0  0  0  0  0  0  0  0  0  0  0  0  0  0\n",
      "  0  0  0  0  0  0  0  0  0  0  0  0  0  0  0  0  0  0  0  0  0  0  0  0  0\n",
      "  0  0  0  0  0  0  0  0  0  0  0  0  0  0  0  0  0  0  0  0  0  0  0  0  0\n",
      "  0  0  0  0  0  0  0  0  0  0  0  0  0  0  0  0  0  0  0  0  0  0  0  0  0\n",
      "  0  0  0  0  0  0  0  0  0  0  0  0  0  0  0  0  0  0  0  0  0  1]\n",
      "[ 0  0  0  0  0  0  0  0  0  0  0  0  0  0  0  0  0  0  0  0  0  0  0  0  0\n",
      "  0  0  0  0  0  0  0  0  0  0  0  0  0  0  0  0  0  0  0  0  0  0  0  0  0\n",
      "  0 30 33 32 35 16 36 27 24 24 25 25 14 25 16 19 16 16 12 15 19  7  6 13 12\n",
      " 16 15  8  8  9 10  9  8  7 11  6 10  9  9  7  9  5 10  6  3  6  9  3  4  4\n",
      "  6  9  8  5  5  4  4  5  5  3  7  6  1  1  5  3  1  4  6  3  2  4  2  2  4\n",
      "  3  0  6  3  1  2  3  4  3  1  3  3  1  3  3  1  3  3  7  6  2  2  2  4  3\n",
      "  2  2  1  2  2  1  0  2  1  3  1  2  3  3  0  1  2  1  1  3  1  2  1  1  1\n",
      "  2  0  2  0  1  1  0  0  0  0  2  3  2  1  1  1  1  0  0  1  1  0  0  0  2\n",
      "  1  1  0  1  3  2  1  0  3  0  1  0  1  0  0  0  0  0  0  0  0  0  0  2  0\n",
      "  1  0  1  0  1  0  0  0  0  1  1  0  1  1  0  1  0  1  1  0  1  0  0  1  1\n",
      "  0  0  1  0  0  1  1  2  1  1  2  0  1  0  0  0  0  0  1  1  0  0  0  0  0\n",
      "  0  1  0  0  0  0  2  1  1  0  0  1  0  0  1  0  0  0  1  1  2  1  1  0  0\n",
      "  0  0  0  1  0  1  0  0  0  0  0  1  0  0  2  0  0  0  0  0  0  0  0  1  0\n",
      "  0  0  0  0  0  0  0  0  0  0  0  0  0  1  1  0  2  0  0  0  0  0  0  1  0\n",
      "  0  0  0  0  0  0  0  1  0  0  0  1  1  0  0  0  0  0  0  0  0  1  0  0  0\n",
      "  1]\n",
      "[ 0  0  0  0  0  0  0  0  0  0  0  0  0  0  0  0  0  0  0  0  0  0  0  0  0\n",
      "  0  0  0  0  0  0  0  0  0  0  0  0  0  0  0  0  0  0  0  0  0  0  0  0  1\n",
      " 15 32 31 43 33 36 28 25 18 28 32 24 21 23 20 17 19 12 11 18 11 22 13 11 12\n",
      " 13 11 12 12 13  5  9  8  5  9 11  5  4  5  2  5  6  2  4  4  7  5  4 10  3\n",
      " 10  2  0  5  2  5  6  4  3  5  0  2  3  6  3  5  4  2  2  3  2  4  2  5  2\n",
      "  2  1  3  3  0  3  0  4  1  7  1  0  3  3  2  0  0  4  1  1  2  1  1  2  1\n",
      "  1  2  1  0  1  5  1  2  2  0  1  2  1  2  0  1  2  2  2  0  1  2  1  0  0\n",
      "  3  1  1  1  1  1  0  0  1  1  1  0  2  0  0  0  1  3  3  1  1  0  2  1  1\n",
      "  0  2  0  1  0  2  2  1  1  0  0  1  2  0  2  0  1  1  1  1  0  0  0  1  0\n",
      "  4  0  0  1  1  1  0  1  0  1  1  0  0  0  1  0  1  0  4  1  2  2  1  1  2\n",
      "  0  0  1  2  1  0  0  1  3  1  1  1  0  3  0  1  1  1  1  0  1  0  0  0  0\n",
      "  0  2  2  0  0  0  0  1  1  1  0  0  0  0  0  0  0  1  0  2  0  0  0  0  0\n",
      "  0  0  0  0  0  0  0  0  1  0  0  0  0  1  0  1  0  0  0  0  1  1  0  0  0\n",
      "  0  0  0  0  0  0  0  0  0  0  0  0  0  0  0  1  0  0  0  0  0  0  0  0  0\n",
      "  0  0  0  0  0  0  0  0  0  0  0  0  0  1  0  0  0  0  0  0  0  0  0  1  0\n",
      "  0  1  0  0  0  0  0  0  0  0  0  0  0  0  1  0  0  0  0  0  0  0  0  0  0\n",
      "  0  0  0  1]\n"
     ]
    },
    {
     "data": {
      "image/png": "[encoded data removed]",
      "text/plain": [
       "<matplotlib.figure.Figure at 0x461c0951d0>"
      ]
     },
     "metadata": {},
     "output_type": "display_data"
    }
   ],
   "source": [
    "f, (ax1, ax2, ax3) = plt.subplots(1, 3, sharey=True)\n",
    "f.set_figwidth(20)\n",
    "f.set_figheight(5)\n",
    "title = \"Comparison with generated models (2)\"\n",
    "\n",
    "d1 = [val for (n, val) in  G.degree()]\n",
    "d2 = [val for (n, val) in G_BA.degree()]\n",
    "d3 = [val for (n, val) in G_HK.degree()]\n",
    "\n",
    "data = [d1, d2, d3]\n",
    "for t, d, ax, c in zip(titles, data, [ax1, ax2, ax3], colors):\n",
    "    bins = np.bincount(d)\n",
    "    print(bins)\n",
    "    ax.loglog(np.arange(0,len(bins)), bins, c=c)\n",
    "    #ax.hist(degrees.values(), bins=1000)\n",
    "    ax.set_ylim([1,400])\n",
    "    ax.set_xlabel(\"Degree\")\n",
    "    ax.set_ylabel(\"Occurences\")\n",
    "    ax.set_title(t)\n",
    "f.suptitle(title)\n",
    "plt.savefig(\"images/{}.png\".format(title), dpi=600)\n",
    "plt.show()"
   ]
  },
  {
   "cell_type": "code",
   "execution_count": 245,
   "metadata": {},
   "outputs": [
    {
     "name": "stdout",
     "output_type": "stream",
     "text": [
      "Node:  160\n",
      "{'department': 36}\n",
      "degree:  546\n"
     ]
    }
   ],
   "source": [
    "# selecting node with max degree\n",
    "best_node = max(dict_deg.keys(), key=(lambda key: dict_deg[key]))\n",
    "print(\"Node: \", best_node)\n",
    "print(G.nodes[best_node])\n",
    "print(\"degree: \", dict_deg[best_node])"
   ]
  },
  {
   "cell_type": "code",
   "execution_count": 246,
   "metadata": {},
   "outputs": [
    {
     "name": "stdout",
     "output_type": "stream",
     "text": [
      "Node:  160\n",
      "{'department': 36}\n",
      "degree:  546\n"
     ]
    }
   ],
   "source": [
    "# selecting node with max in degree\n",
    "best_node = max(dict_deg.keys(), key=(lambda key: dict_deg[key]))\n",
    "print(\"Node: \", best_node)\n",
    "print(G.nodes[best_node])\n",
    "print(\"degree: \", dict_deg[best_node])"
   ]
  },
  {
   "cell_type": "code",
   "execution_count": 247,
   "metadata": {},
   "outputs": [
    {
     "name": "stdout",
     "output_type": "stream",
     "text": [
      "Node:  160\n",
      "{'department': 36}\n",
      "in-degree :  212\n"
     ]
    }
   ],
   "source": [
    "# selecting node with max in-degree\n",
    "best_node_in = max(dict_indeg.keys(), key=(lambda key: dict_indeg[key]))\n",
    "print(\"Node: \", best_node_in)\n",
    "print(G.nodes[best_node_in])\n",
    "print(\"in-degree : \", dict_indeg[best_node_in])"
   ]
  },
  {
   "cell_type": "code",
   "execution_count": 248,
   "metadata": {},
   "outputs": [
    {
     "name": "stdout",
     "output_type": "stream",
     "text": [
      "Node:  160\n",
      "{'department': 36}\n",
      "out-degree:  334\n"
     ]
    }
   ],
   "source": [
    "# selecting node with max out-degree\n",
    "best_node_out = max(dict_outdeg.keys(), key=(lambda key: dict_outdeg[key]))\n",
    "print(\"Node: \", best_node_out)\n",
    "print(G.nodes[best_node_out])\n",
    "print(\"out-degree: \", dict_outdeg[best_node_out])"
   ]
  },
  {
   "cell_type": "markdown",
   "metadata": {},
   "source": [
    "# Communities"
   ]
  },
  {
   "cell_type": "code",
   "execution_count": 22,
   "metadata": {},
   "outputs": [
    {
     "name": "stdout",
     "output_type": "stream",
     "text": [
      "Weak Components: 20, Giant size: 986 (0.981%)\n"
     ]
    }
   ],
   "source": [
    "#Dividing into components and finding the biggest one\n",
    "weak_components = list(nx.weakly_connected_components(G))\n",
    "weak_components_count = len(weak_components)\n",
    "weak_gcc = nx.Graph(max(nx.weakly_connected_component_subgraphs(G), key=len))\n",
    "weak_percent = len(weak_gcc.nodes()) / (len(G.nodes()))\n",
    "print(\"Weak Components: {}, Giant size: {} ({:.3f}%)\".format(weak_components_count, len(weak_gcc.nodes()), weak_percent))"
   ]
  },
  {
   "cell_type": "code",
   "execution_count": 23,
   "metadata": {},
   "outputs": [
    {
     "name": "stdout",
     "output_type": "stream",
     "text": [
      "Strong Components: 203, Giant size: 803 (0.799%)\n"
     ]
    }
   ],
   "source": [
    "#Dividing into components and finding the biggest one\n",
    "strong_components = list(nx.strongly_connected_components(G))\n",
    "strong_components_count = len(strong_components)\n",
    "strong_gcc = nx.Graph(max(nx.strongly_connected_component_subgraphs(G), key=len))\n",
    "strong_percent = len(strong_gcc.nodes()) / (len(G.nodes()))\n",
    "print(\"Strong Components: {}, Giant size: {} ({:.3f}%)\".format(strong_components_count, len(strong_gcc.nodes()), strong_percent))"
   ]
  },
  {
   "cell_type": "code",
   "execution_count": 24,
   "metadata": {},
   "outputs": [],
   "source": [
    "wgc_eccvals = nx.eccentricity(weak_gcc)\n",
    "sgc_eccvals = nx.eccentricity(strong_gcc)"
   ]
  },
  {
   "cell_type": "code",
   "execution_count": 25,
   "metadata": {},
   "outputs": [
    {
     "name": "stdout",
     "output_type": "stream",
     "text": [
      "Weak \t- diameter: 7, radius: 4\n",
      "Strong\t- diameter: 5, radius: 3\n"
     ]
    }
   ],
   "source": [
    "weak_diameter = nx.diameter(weak_gcc, wgc_eccvals)\n",
    "weak_radius = nx.radius(weak_gcc, wgc_eccvals)\n",
    "strong_diameter = nx.diameter(strong_gcc, sgc_eccvals)\n",
    "strong_radius = nx.radius(strong_gcc, sgc_eccvals)\n",
    "print(\"Weak \\t- diameter: {}, radius: {}\".format(weak_diameter, weak_radius))\n",
    "print(\"Strong\\t- diameter: {}, radius: {}\".format(strong_diameter, strong_radius))"
   ]
  },
  {
   "cell_type": "code",
   "execution_count": 26,
   "metadata": {},
   "outputs": [
    {
     "name": "stdout",
     "output_type": "stream",
     "text": [
      "WEAK CC CENTER\n",
      "[0, 1, 5, 6, 12, 13, 14, 16, 17, 18, 21, 25, 26, 27, 29, 33, 35, 37, 38, 39, 40, 41, 47, 48, 51, 52, 53, 60, 61, 62, 64, 65, 70, 74, 76, 79, 82, 83, 84, 85, 86, 87, 92, 93, 94, 95, 96, 103, 104, 105, 106, 107, 113, 114, 115, 116, 120, 121, 122, 123, 127, 128, 129, 130, 133, 135, 139, 141, 142, 143, 145, 146, 147, 148, 149, 150, 151, 153, 155, 156, 157, 160, 162, 163, 165, 166, 167, 168, 171, 172, 173, 174, 176, 177, 178, 179, 180, 181, 182, 189, 191, 196, 199, 201, 203, 204, 205, 206, 207, 211, 212, 214, 215, 218, 220, 221, 222, 223, 225, 226, 227, 228, 231, 232, 245, 249, 250, 251, 254, 255, 256, 257, 258, 261, 262, 263, 270, 275, 277, 278, 280, 282, 283, 284, 289, 290, 291, 292, 295, 296, 301, 305, 307, 308, 309, 310, 312, 314, 316, 317, 318, 320, 321, 333, 339, 340, 342, 343, 345, 346, 347, 349, 350, 351, 352, 361, 362, 365, 366, 368, 370, 373, 376, 377, 378, 379, 380, 381, 384, 385, 387, 388, 389, 390, 391, 392, 393, 394, 395, 396, 397, 402, 403, 409, 413, 417, 419, 420, 421, 422, 423, 424, 426, 427, 430, 433, 434, 437, 440, 442, 443, 444, 450, 455, 457, 458, 460, 464, 466, 473, 482, 483, 485, 486, 489, 490, 493, 494, 495, 498, 511, 515, 526, 527, 528, 533, 536, 537, 546, 547, 548, 562, 563, 572, 577, 590, 593, 601, 615, 621, 624, 644, 655, 681, 697, 706, 725, 726, 727, 730, 734, 748, 776, 789, 810, 820, 822, 847, 857, 917, 919, 922, 925, 932, 936, 950, 976, 981]\n",
      "Dim centro 288\n"
     ]
    }
   ],
   "source": [
    "print(\"WEAK CC CENTER\")\n",
    "centro_w = nx.center(weak_gcc, e=wgc_eccvals)\n",
    "print(centro_w)\n",
    "print(\"Dim centro {}\".format(len(centro_w)))"
   ]
  },
  {
   "cell_type": "code",
   "execution_count": 27,
   "metadata": {},
   "outputs": [
    {
     "name": "stdout",
     "output_type": "stream",
     "text": [
      "STRONG CC CENTER\n",
      "[0, 2, 3, 4, 5, 6, 7, 10, 11, 12, 13, 14, 16, 17, 19, 21, 23, 24, 28, 35, 36, 41, 42, 44, 46, 47, 51, 53, 58, 62, 63, 64, 65, 69, 74, 79, 80, 81, 82, 83, 84, 86, 87, 88, 89, 92, 93, 96, 99, 100, 103, 105, 106, 107, 113, 114, 115, 116, 121, 123, 128, 129, 131, 132, 133, 134, 135, 137, 139, 141, 142, 143, 145, 152, 153, 154, 155, 157, 158, 160, 162, 163, 165, 166, 168, 169, 170, 171, 172, 173, 174, 177, 180, 183, 184, 187, 189, 191, 196, 198, 199, 201, 206, 207, 208, 209, 210, 211, 212, 215, 218, 221, 222, 223, 226, 229, 232, 233, 236, 238, 243, 245, 249, 252, 253, 255, 256, 261, 263, 268, 269, 272, 278, 280, 282, 283, 284, 285, 286, 288, 290, 291, 292, 296, 300, 301, 303, 306, 308, 309, 312, 314, 318, 320, 325, 327, 329, 333, 338, 340, 346, 349, 351, 353, 356, 357, 362, 365, 366, 367, 371, 373, 376, 377, 379, 389, 393, 395, 397, 400, 404, 405, 408, 409, 411, 417, 419, 420, 421, 422, 423, 424, 425, 426, 427, 430, 434, 438, 440, 441, 445, 450, 458, 460, 464, 466, 473, 474, 480, 482, 483, 486, 489, 490, 493, 494, 495, 496, 498, 506, 518, 531, 533, 543, 544, 546, 548, 549, 557, 572, 601, 611, 612, 615, 681, 690, 730, 748, 812, 820, 828, 856, 859, 892, 932, 950, 971]\n",
      "Dim centro 247\n"
     ]
    }
   ],
   "source": [
    "print(\"STRONG CC CENTER\")\n",
    "centro_s = nx.center(strong_gcc, e=sgc_eccvals)\n",
    "print(centro_s)\n",
    "print(\"Dim centro {}\".format(len(centro_s)))"
   ]
  },
  {
   "cell_type": "code",
   "execution_count": 28,
   "metadata": {},
   "outputs": [],
   "source": [
    "#exporting the giant component for analysis\n",
    "giant = max(nx.strongly_connected_component_subgraphs(G), key=len)\n",
    "nx.write_graphml(giant, \"graphs/network-strong-gcc.graphml\")\n",
    "\n"
   ]
  },
  {
   "cell_type": "code",
   "execution_count": 209,
   "metadata": {},
   "outputs": [],
   "source": [
    "# Centralities"
   ]
  },
  {
   "cell_type": "code",
   "execution_count": 257,
   "metadata": {},
   "outputs": [],
   "source": [
    "dgr = nx.degree_centrality(G)\n",
    "clo = nx.closeness_centrality(G)\n",
    "eig = nx.eigenvector_centrality(G)\n",
    "bet = nx.betweenness_centrality(G)\n",
    "pgr = nx.pagerank(G)"
   ]
  },
  {
   "cell_type": "code",
   "execution_count": 265,
   "metadata": {},
   "outputs": [],
   "source": [
    "hubs,auths = nx.hits(G)"
   ]
  },
  {
   "cell_type": "code",
   "execution_count": 269,
   "metadata": {},
   "outputs": [],
   "source": [
    "GLab = G.copy()\n",
    "nx.set_node_attributes(GLab, dgr, \"degree_cent\")\n",
    "nx.set_node_attributes(GLab, clo, \"closeness\")\n",
    "nx.set_node_attributes(GLab, eig, \"eigen\")\n",
    "nx.set_node_attributes(GLab, bet, \"betweenness\")\n",
    "nx.set_node_attributes(GLab, pgr, \"pr\")\n",
    "nx.set_node_attributes(GLab, hubs, \"hub\")\n",
    "nx.set_node_attributes(GLab, auths, \"auth\")\n",
    "nx.write_graphml(GLab, \"graphs/network-strong-gcc.graphml\")"
   ]
  },
  {
   "cell_type": "code",
   "execution_count": 270,
   "metadata": {},
   "outputs": [],
   "source": [
    "# Communities"
   ]
  },
  {
   "cell_type": "code",
   "execution_count": 29,
   "metadata": {},
   "outputs": [],
   "source": [
    "import community"
   ]
  },
  {
   "cell_type": "code",
   "execution_count": 30,
   "metadata": {},
   "outputs": [],
   "source": [
    "partitions = community.best_partition(GUnd)"
   ]
  },
  {
   "cell_type": "code",
   "execution_count": 31,
   "metadata": {},
   "outputs": [
    {
     "data": {
      "text/plain": [
       "0.421183064116178"
      ]
     },
     "execution_count": 31,
     "metadata": {},
     "output_type": "execute_result"
    }
   ],
   "source": [
    "community.modularity(partitions,GUnd)"
   ]
  },
  {
   "cell_type": "code",
   "execution_count": 32,
   "metadata": {},
   "outputs": [
    {
     "data": {
      "text/plain": [
       "0    297\n",
       "3    232\n",
       "1    149\n",
       "5    136\n",
       "2     96\n",
       "dtype: int64"
      ]
     },
     "execution_count": 32,
     "metadata": {},
     "output_type": "execute_result"
    }
   ],
   "source": [
    "part_series = pd.Series(partitions)\n",
    "part_series.sort_values()\n",
    "part_series = part_series.value_counts()\n",
    "part_series.head()"
   ]
  },
  {
   "cell_type": "code",
   "execution_count": 33,
   "metadata": {},
   "outputs": [
    {
     "name": "stdout",
     "output_type": "stream",
     "text": [
      "Communities:  27\n"
     ]
    }
   ],
   "source": [
    "induced = community.induced_graph(partitions, G)\n",
    "print(\"Communities: \", len(induced.nodes()))\n",
    "community_sizes = {n: int(part_series[n]) for n in induced.nodes()}\n",
    "nx.set_node_attributes(induced, community_sizes, \"size\")"
   ]
  },
  {
   "cell_type": "code",
   "execution_count": null,
   "metadata": {},
   "outputs": [],
   "source": [
    "nx.write_graphml(induced, \"graphs/network-communities-mod.graphml\")"
   ]
  },
  {
   "cell_type": "code",
   "execution_count": null,
   "metadata": {},
   "outputs": [],
   "source": [
    "#cliques\n",
    "cliques = list(nx.find_cliques(GUnd))\n",
    "cliques = sorted(cliques, key=lambda clique: -len(clique))\n",
    "print(\"Number of cliques: \", len(cliques))\n",
    "print(\"Max clique: \", len(cliques[0]))"
   ]
  },
  {
   "cell_type": "code",
   "execution_count": 282,
   "metadata": {},
   "outputs": [
    {
     "data": {
      "text/plain": [
       "[<matplotlib.lines.Line2D at 0x12828ea5c0>]"
      ]
     },
     "execution_count": 282,
     "metadata": {},
     "output_type": "execute_result"
    }
   ],
   "source": [
    "clique_sizes = [len(c) for c in cliques]\n",
    "plt.plot(np.arange(0, len(clique_sizes)), clique_sizes)"
   ]
  },
  {
   "cell_type": "code",
   "execution_count": null,
   "metadata": {},
   "outputs": [],
   "source": [
    "G_clique = nx.subgraph(G, cliques[0])\n",
    "print(len(G_clique), len(G_clique.edges()))\n",
    "nx.write_graphml(G_clique, \"graphs/network-clique.graphml\")"
   ]
  },
  {
   "cell_type": "code",
   "execution_count": 284,
   "metadata": {},
   "outputs": [],
   "source": [
    "#Manual communities by department\n",
    "dep_comms = dict()\n",
    "for n, att in G.nodes(data=True):\n",
    "    y = att[\"department\"]\n",
    "    if y not in dep_comms:\n",
    "        dep_comms[y] = []\n",
    "    dep_comms[y].append(n)"
   ]
  },
  {
   "cell_type": "code",
   "execution_count": 285,
   "metadata": {},
   "outputs": [],
   "source": [
    "dep_partition = []\n",
    "for vals in dep_comms.values():\n",
    "    dep_partition.append(set(vals))"
   ]
  },
  {
   "cell_type": "code",
   "execution_count": 286,
   "metadata": {},
   "outputs": [],
   "source": [
    "def data_f(B):\n",
    "    result = dict()\n",
    "    result[\"nnodes\"] = len(B)\n",
    "    result[\"department\"] = G.nodes(data=True)[next(iter(B))][\"department\"]\n",
    "    return result\n",
    "\n",
    "G_deps = nx.quotient_graph(G, dep_partition, relabel=True, node_data=data_f)"
   ]
  },
  {
   "cell_type": "code",
   "execution_count": 290,
   "metadata": {},
   "outputs": [
    {
     "name": "stdout",
     "output_type": "stream",
     "text": [
      "42 1203\n"
     ]
    }
   ],
   "source": [
    "print(len(G_deps), len(G_deps.edges()))\n",
    "nx.write_graphml(G_deps, \"graphs/network-comm-depss.graphml\")"
   ]
  },
  {
   "cell_type": "code",
   "execution_count": 291,
   "metadata": {},
   "outputs": [],
   "source": [
    "# The following code fragment calculates the dictionary and separates the keys and values into \n",
    "# two lists my_degree and their_degree:\n",
    "\n",
    "my_degree, their_degree = zip(*nx.average_degree_connectivity(G).items())"
   ]
  },
  {
   "cell_type": "code",
   "execution_count": 292,
   "metadata": {},
   "outputs": [],
   "source": [
    "k_knn = pd.concat([pd.Series(v) for v in (my_degree, their_degree)], axis=1)\n",
    "k_knn.columns = (\"k\", \"Knn(k)\")\n",
    "k_knn = k_knn.groupby(\"k\").mean().reset_index()\n",
    "plt.figure(figsize=(10,6))\n",
    "plt.scatter(k_knn[\"k\"], k_knn[\"Knn(k)\"], alpha=0.8)\n",
    "plt.xscale(\"log\")\n",
    "plt.yscale(\"log\")\n",
    "plt.ylim([1, 200])\n",
    "plt.ylabel(\"$K_{nn}(k)$\")\n",
    "plt.xlabel(\"Degree k\")\n",
    "plt.title(\"Degree assortativity\")\n",
    "plt.savefig(\"images/{}.png\".format(\"Degree assortativity\"), dpi=600)\n",
    "plt.show()"
   ]
  },
  {
   "cell_type": "code",
   "execution_count": 293,
   "metadata": {},
   "outputs": [
    {
     "data": {
      "text/plain": [
       "0.3313941805773325"
      ]
     },
     "execution_count": 293,
     "metadata": {},
     "output_type": "execute_result"
    }
   ],
   "source": [
    "nx.attribute_assortativity_coefficient(G,'department')"
   ]
  },
  {
   "cell_type": "code",
   "execution_count": 294,
   "metadata": {},
   "outputs": [
    {
     "data": {
      "text/plain": [
       "array([[  1.78327011e-02,   1.36873802e-03,   3.91068007e-05, ...,\n",
       "          0.00000000e+00,   0.00000000e+00,   0.00000000e+00],\n",
       "       [  7.43029213e-04,   2.10785656e-02,   3.51961206e-04, ...,\n",
       "          9.38563216e-04,   7.82136013e-05,   1.56427203e-04],\n",
       "       [  7.82136013e-05,   3.12854405e-04,   1.95534003e-03, ...,\n",
       "          3.91068007e-05,   0.00000000e+00,   0.00000000e+00],\n",
       "       ..., \n",
       "       [  0.00000000e+00,   1.17320402e-03,   1.17320402e-04, ...,\n",
       "          7.82136013e-05,   0.00000000e+00,   0.00000000e+00],\n",
       "       [  1.17320402e-04,   1.95534003e-04,   3.91068007e-05, ...,\n",
       "          0.00000000e+00,   5.08388409e-04,   0.00000000e+00],\n",
       "       [  0.00000000e+00,   0.00000000e+00,   0.00000000e+00, ...,\n",
       "          0.00000000e+00,   0.00000000e+00,   3.91068007e-05]])"
      ]
     },
     "execution_count": 294,
     "metadata": {},
     "output_type": "execute_result"
    }
   ],
   "source": [
    "#homophily\n",
    "nx.attribute_mixing_matrix(G, \"department\")"
   ]
  },
  {
   "cell_type": "code",
   "execution_count": null,
   "metadata": {},
   "outputs": [],
   "source": []
  }
 ],
 "metadata": {
  "kernelspec": {
   "display_name": "Python 3",
   "language": "python",
   "name": "python3"
  },
  "language_info": {
   "codemirror_mode": {
    "name": "ipython",
    "version": 3
   },
   "file_extension": ".py",
   "mimetype": "text/x-python",
   "name": "python",
   "nbconvert_exporter": "python",
   "pygments_lexer": "ipython3",
   "version": "3.6.3"
  }
 },
 "nbformat": 4,
 "nbformat_minor": 2
}
