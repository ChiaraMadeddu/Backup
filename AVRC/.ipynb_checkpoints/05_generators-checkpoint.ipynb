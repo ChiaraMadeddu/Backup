{
 "cells": [
  {
   "cell_type": "code",
   "execution_count": null,
   "metadata": {
    "collapsed": true
   },
   "outputs": [],
   "source": [
    "\"\"\"\n",
    "Generate a variety of synthetic graphs.\n",
    "\"\"\"\n",
    "import re\n",
    "import networkx as nx\n",
    "from networkx.drawing.nx_agraph import graphviz_layout\n",
    "import matplotlib.pyplot as plt\n",
    "import dzcnapy_plotlib as dzcnapy"
   ]
  },
  {
   "cell_type": "code",
   "execution_count": null,
   "metadata": {
    "collapsed": true
   },
   "outputs": [],
   "source": [
    "# Generate and draw classic networks\n",
    "G0 = nx.    path_graph(20)\n",
    "G1 = nx.   cycle_graph(20)\n",
    "G4 = nx.    star_graph(20)\n",
    "G5 = nx.complete_graph(20)\n",
    "G2 = nx. balanced_tree(2, 5)\n",
    "G3 = nx. grid_2d_graph(5, 4)"
   ]
  },
  {
   "cell_type": "code",
   "execution_count": null,
   "metadata": {
    "collapsed": true
   },
   "outputs": [],
   "source": [
    "names = (\"Linear (Path)\", \"Ring (Cycle)\", \"Balanced Tree\", \"Mesh (Grid)\", \n",
    "         \"Star\", \"Complete\")\n",
    "graphs = G0, G1, G2, G3, G4, G5\n",
    "layouts = (graphviz_layout, ) * len(graphs)"
   ]
  },
  {
   "cell_type": "code",
   "execution_count": null,
   "metadata": {},
   "outputs": [],
   "source": [
    "for i, (g, name, layout) in  enumerate(zip(graphs, names, layouts)):\n",
    "    ax = plt.subplot(3, 2, i + 1)\n",
    "    pos = layout(g)\n",
    "    nx.draw_networkx_edges(g, pos, alpha=0.5, ax=ax, **dzcnapy.small_attrs)\n",
    "    nx.draw_networkx_nodes(g, pos, ax=ax, **dzcnapy.small_attrs)\n",
    "    dzcnapy.set_extent(pos, ax, name)\n",
    "\n",
    "dzcnapy.plot(\"synthetic3\")"
   ]
  },
  {
   "cell_type": "code",
   "execution_count": null,
   "metadata": {
    "collapsed": true
   },
   "outputs": [],
   "source": [
    "# Generate and draw random networks\n",
    "G0 = nx.             erdos_renyi_graph(50,    0.05)\n",
    "G1 = nx.connected_watts_strogatz_graph(50, 4, 0.5 )\n",
    "G2 = nx.         barabasi_albert_graph(50, 4      )\n",
    "G3 = nx.        powerlaw_cluster_graph(50, 4, 0.5 )"
   ]
  },
  {
   "cell_type": "code",
   "execution_count": null,
   "metadata": {
    "collapsed": true
   },
   "outputs": [],
   "source": [
    "names = (\"Erdös-Rényi (p=0.05)\", \"Watts-Strogatz (k=4, p=0.5)\", \n",
    "         \"Barabási-Albert (k=4)\", \"Holme-Kim (k=4, p=0.5)\")\n",
    "graphs = G0, G1, G2, G3\n",
    "layouts = (nx.circular_layout, nx.circular_layout,\n",
    "           graphviz_layout, graphviz_layout)"
   ]
  },
  {
   "cell_type": "code",
   "execution_count": null,
   "metadata": {},
   "outputs": [],
   "source": [
    "for i, (g, name, layout) in  enumerate(zip(graphs, names, layouts)):\n",
    "    ax = plt.subplot(2, 2, i + 1)\n",
    "    pos = layout(g)\n",
    "    nx.draw_networkx_edges(g, pos, alpha=0.5, ax=ax, **dzcnapy.small_attrs)\n",
    "    nx.draw_networkx_nodes(g, pos, ax=ax, **dzcnapy.small_attrs)\n",
    "    dzcnapy.set_extent(pos, ax, name)\n",
    "\n",
    "dzcnapy.plot(\"synthetic1\")"
   ]
  },
  {
   "cell_type": "code",
   "execution_count": null,
   "metadata": {
    "collapsed": true
   },
   "outputs": [],
   "source": [
    "# Generate and draw famous social networks\n",
    "G0 = nx.karate_club_graph()\n",
    "G1 = nx.davis_southern_women_graph()\n",
    "G2 = nx.florentine_families_graph()"
   ]
  },
  {
   "cell_type": "code",
   "execution_count": null,
   "metadata": {
    "collapsed": true
   },
   "outputs": [],
   "source": [
    "names = (\"Zachary's Karate Club\", \"Davis Southern women\", \n",
    "         \"Florentine families\")\n",
    "graphs = G0, G1, G2\n",
    "layouts = (graphviz_layout, graphviz_layout, graphviz_layout)\n",
    "locations = (2, 2, 1), (2, 1, 2), (2, 2, 2)"
   ]
  },
  {
   "cell_type": "code",
   "execution_count": null,
   "metadata": {},
   "outputs": [],
   "source": [
    "for g, name, layout, loc in zip(graphs, names, layouts, locations):\n",
    "    ax = plt.subplot(*loc)\n",
    "    pos = layout(g)\n",
    "    nx.draw_networkx_edges(g, pos, alpha=0.5, ax=ax, **dzcnapy.medium_attrs)\n",
    "    nx.draw_networkx_nodes(g, pos, ax=ax, **dzcnapy.medium_attrs)\n",
    "    nx.draw_networkx_labels(g, pos, ax=ax, **dzcnapy.medium_attrs)\n",
    "    dzcnapy.set_extent(pos, ax, name)\n",
    "\n",
    "dzcnapy.plot(\"synthetic2\")"
   ]
  },
  {
   "cell_type": "code",
   "execution_count": null,
   "metadata": {},
   "outputs": [],
   "source": [
    "# We will need the network of Southern women again!\n",
    "pos = graphviz_layout(G1)\n",
    "nx.draw_networkx_edges(G1, pos, alpha=0.5, **dzcnapy.medium_attrs)\n",
    "nx.draw_networkx_nodes(G1, nodelist=[x for x in G1 if re.match(\"E\\d+\",x)], \n",
    "                       pos=pos, **dzcnapy.medium_attrs)\n",
    "dzcnapy.medium_attrs[\"node_color\"] = \"yellow\"\n",
    "nx.draw_networkx_nodes(G1, nodelist=[x for x in G1 if not re.match(\"E\\d+\",x)], \n",
    "                       pos=pos, **dzcnapy.medium_attrs)\n",
    "nx.draw_networkx_labels(G1, pos, **dzcnapy.medium_attrs)\n",
    "\n",
    "dzcnapy.set_extent(pos, plt)\n",
    "dzcnapy.plot(\"southern\", True)"
   ]
  },
  {
   "cell_type": "code",
   "execution_count": null,
   "metadata": {
    "collapsed": true
   },
   "outputs": [],
   "source": []
  },
  {
   "cell_type": "code",
   "execution_count": null,
   "metadata": {},
   "outputs": [],
   "source": []
  },
  {
   "cell_type": "code",
   "execution_count": null,
   "metadata": {},
   "outputs": [],
   "source": []
  }
 ],
 "metadata": {
  "kernelspec": {
   "display_name": "Python 3",
   "language": "python",
   "name": "python3"
  },
  "language_info": {
   "codemirror_mode": {
    "name": "ipython",
    "version": 3
   },
   "file_extension": ".py",
   "mimetype": "text/x-python",
   "name": "python",
   "nbconvert_exporter": "python",
   "pygments_lexer": "ipython3",
   "version": "3.6.3"
  }
 },
 "nbformat": 4,
 "nbformat_minor": 2
}
