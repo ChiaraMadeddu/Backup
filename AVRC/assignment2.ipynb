{
 "cells": [
  {
   "cell_type": "code",
   "execution_count": 135,
   "metadata": {},
   "outputs": [],
   "source": [
    "import networkx as nx\n",
    "import numpy as np\n",
    "import os"
   ]
  },
  {
   "cell_type": "code",
   "execution_count": 211,
   "metadata": {},
   "outputs": [],
   "source": [
    "file_email=\"email-Eu-core.txt\"\n",
    "file_dep=\"email-Eu-core-department-labels.txt\""
   ]
  },
  {
   "cell_type": "markdown",
   "metadata": {},
   "source": [
    "# Creazione del grafo"
   ]
  },
  {
   "cell_type": "code",
   "execution_count": 1,
   "metadata": {},
   "outputs": [
    {
     "name": "stderr",
     "output_type": "stream",
     "text": [
      "ERROR:root:Internal Python error in the inspect module.\n",
      "Below is the traceback from this internal error.\n",
      "\n"
     ]
    },
    {
     "name": "stdout",
     "output_type": "stream",
     "text": [
      "Traceback (most recent call last):\n",
      "  File \"C:\\Users\\Chiara\\Anaconda3\\lib\\site-packages\\IPython\\core\\interactiveshell.py\", line 2862, in run_code\n",
      "    exec(code_obj, self.user_global_ns, self.user_ns)\n",
      "  File \"<ipython-input-1-3a373ae549d2>\", line 1, in <module>\n",
      "    G = nx.DiGraph();\n",
      "NameError: name 'nx' is not defined\n",
      "\n",
      "During handling of the above exception, another exception occurred:\n",
      "\n",
      "Traceback (most recent call last):\n",
      "  File \"C:\\Users\\Chiara\\Anaconda3\\lib\\site-packages\\IPython\\core\\interactiveshell.py\", line 1806, in showtraceback\n",
      "    stb = value._render_traceback_()\n",
      "AttributeError: 'NameError' object has no attribute '_render_traceback_'\n",
      "\n",
      "During handling of the above exception, another exception occurred:\n",
      "\n",
      "Traceback (most recent call last):\n",
      "  File \"C:\\Users\\Chiara\\Anaconda3\\lib\\site-packages\\IPython\\core\\ultratb.py\", line 1090, in get_records\n",
      "    return _fixed_getinnerframes(etb, number_of_lines_of_context, tb_offset)\n",
      "  File \"C:\\Users\\Chiara\\Anaconda3\\lib\\site-packages\\IPython\\core\\ultratb.py\", line 311, in wrapped\n",
      "    return f(*args, **kwargs)\n",
      "  File \"C:\\Users\\Chiara\\Anaconda3\\lib\\site-packages\\IPython\\core\\ultratb.py\", line 345, in _fixed_getinnerframes\n",
      "    records = fix_frame_records_filenames(inspect.getinnerframes(etb, context))\n",
      "  File \"C:\\Users\\Chiara\\Anaconda3\\lib\\inspect.py\", line 1480, in getinnerframes\n",
      "    frameinfo = (tb.tb_frame,) + getframeinfo(tb, context)\n",
      "  File \"C:\\Users\\Chiara\\Anaconda3\\lib\\inspect.py\", line 1438, in getframeinfo\n",
      "    filename = getsourcefile(frame) or getfile(frame)\n",
      "  File \"C:\\Users\\Chiara\\Anaconda3\\lib\\inspect.py\", line 693, in getsourcefile\n",
      "    if getattr(getmodule(object, filename), '__loader__', None) is not None:\n",
      "  File \"C:\\Users\\Chiara\\Anaconda3\\lib\\inspect.py\", line 736, in getmodule\n",
      "    f = getabsfile(module)\n",
      "  File \"C:\\Users\\Chiara\\Anaconda3\\lib\\inspect.py\", line 705, in getabsfile\n",
      "    _filename = getsourcefile(object) or getfile(object)\n",
      "  File \"C:\\Users\\Chiara\\Anaconda3\\lib\\inspect.py\", line 690, in getsourcefile\n",
      "    if os.path.exists(filename):\n",
      "  File \"C:\\Users\\Chiara\\Anaconda3\\lib\\genericpath.py\", line 19, in exists\n",
      "    os.stat(path)\n",
      "KeyboardInterrupt\n"
     ]
    },
    {
     "ename": "NameError",
     "evalue": "name 'nx' is not defined",
     "output_type": "error",
     "traceback": [
      "\u001b[1;31m---------------------------------------------------------------------------\u001b[0m"
     ]
    }
   ],
   "source": [
    "G = nx.DiGraph();\n",
    "id_length = 7\n",
    "\n",
    "#Reading the graph from the edge list\n",
    "#leggo il file email e creo la rete corrispondente\n",
    "with open(file_email) as file:\n",
    "    for line in file.readlines():\n",
    "        nodes = tuple(int(x) for x in line.split(\" \"))\n",
    "        n1, n2 = nodes\n",
    "        G.add_node(n1)\n",
    "        G.add_node(n2)\n",
    "        G.add_edge(n1,n2)\n",
    "        \n",
    "n_edges=len(G.edges())\n",
    "n_nodes=len(G.nodes())\n",
    "\n",
    "print(\"# Nodes: {}\".format(n_nodes))\n",
    "print(\"# Edges: {}\".format(n_edges))\n",
    "#nx.write_graphml(G_clique, \"graphs/network.graphml\")"
   ]
  },
  {
   "cell_type": "code",
   "execution_count": 296,
   "metadata": {},
   "outputs": [],
   "source": [
    "#leggo i dipartimenti del file e creo un dizionario associazione nodo-dipartimento\n",
    "departments = dict()\n",
    "with open(file_dep) as file:\n",
    "    for line in file:\n",
    "        row = tuple(int(x) for x in line.split(\" \"))\n",
    "        node,dep = row\n",
    "        departments[node] = dep\n",
    "        \n",
    "#aggiungo l'attributo del dipartimento alla rete\n",
    "nx.set_node_attributes(G, departments, \"department\")"
   ]
  },
  {
   "cell_type": "markdown",
   "metadata": {},
   "source": [
    " # Graph Meausures"
   ]
  },
  {
   "cell_type": "code",
   "execution_count": 235,
   "metadata": {},
   "outputs": [],
   "source": [
    "from matplotlib import pyplot as plt\n",
    "import networkx as nx\n",
    "import pandas as pd\n",
    "import numpy as np"
   ]
  },
  {
   "cell_type": "code",
   "execution_count": 236,
   "metadata": {},
   "outputs": [
    {
     "name": "stdout",
     "output_type": "stream",
     "text": [
      "Density: 0.025342411448732432\n"
     ]
    }
   ],
   "source": [
    "# density measures the fraction of existing edges out of the possible edges\n",
    "# directed networks: m/n(n-1)\n",
    "# undirectd networks: 2m/n(n-1)\n",
    "# this is much faster than calculating: nx.number_of_edges(G)/nx.non_edges(G)\n",
    "\n",
    "density=nx.density(G)\n",
    "print(\"Density: {}\".format(density))"
   ]
  },
  {
   "cell_type": "code",
   "execution_count": 259,
   "metadata": {},
   "outputs": [
    {
     "data": {
      "text/plain": [
       "16385"
      ]
     },
     "execution_count": 259,
     "metadata": {},
     "output_type": "execute_result"
    }
   ],
   "source": [
    "# Create the undirected version of the graph\n",
    "GUnd = nx.Graph(G)"
   ]
  },
  {
   "cell_type": "code",
   "execution_count": 260,
   "metadata": {},
   "outputs": [],
   "source": [
    "# Function nx.clustering(G, nodes=None) calculates the clustering coefficient of the nodes passed.\n",
    "# That can be interpreted as a measure of the prevalence of triangles in an egocentric network. \n",
    "# The clustering coefficient is the fraction of possible triangles that contain the ego node and exist. \n",
    "# This measure is undefined for directed graphs; you must coerce a digraph to a undirected graph \n",
    "clustering_coeff = nx.clustering(GUnd)"
   ]
  },
  {
   "cell_type": "code",
   "execution_count": 262,
   "metadata": {},
   "outputs": [
    {
     "name": "stdout",
     "output_type": "stream",
     "text": [
      "Average Clustering: 0.3993549664221539\n"
     ]
    }
   ],
   "source": [
    "# Function nx.average_clustering calculates the mean clustering coefficient for all nodes of a simple network \n",
    "# (no loops, no directed or parallel edges).\n",
    "avg_clustering = nx.average_clustering(GUnd)\n",
    "print(\"Average Clustering: {}\".format(avg_clustering))"
   ]
  },
  {
   "cell_type": "code",
   "execution_count": 239,
   "metadata": {},
   "outputs": [
    {
     "name": "stdout",
     "output_type": "stream",
     "text": [
      "Transitivity: 0.2201493109315837\n"
     ]
    }
   ],
   "source": [
    "# The average clustering coefficient is not to be confused with the clustering coefficient of the \n",
    "# whole network—the fraction of all possible triangles that exist in the network. \n",
    "# The latter is known as transitivity, a measure of transitive closure (explained here). \n",
    "# networkx has a namesake function to calculate it, too:\n",
    "\n",
    "trans = nx.transitivity(G)\n",
    "print(\"Transitivity: {}\".format(trans))"
   ]
  },
  {
   "cell_type": "code",
   "execution_count": 240,
   "metadata": {},
   "outputs": [],
   "source": [
    "dict_deg = {node: val for (node, val) in G.degree()}\n",
    "dict_indeg  = {node: val for (node, val) in G.in_degree()}\n",
    "dict_outdeg = {node: val for (node, val) in G.out_degree()}\n",
    "dict_clco = nx.clustering(GUnd)"
   ]
  },
  {
   "cell_type": "code",
   "execution_count": 241,
   "metadata": {},
   "outputs": [
    {
     "ename": "KeyboardInterrupt",
     "evalue": "",
     "output_type": "error",
     "traceback": [
      "\u001b[1;31m---------------------------------------------------------------------------\u001b[0m",
      "\u001b[1;31mKeyboardInterrupt\u001b[0m                         Traceback (most recent call last)",
      "\u001b[1;32m<ipython-input-241-76e9d67eb581>\u001b[0m in \u001b[0;36m<module>\u001b[1;34m()\u001b[0m\n\u001b[0;32m     23\u001b[0m     \u001b[0max\u001b[0m\u001b[1;33m.\u001b[0m\u001b[0mgrid\u001b[0m\u001b[1;33m(\u001b[0m\u001b[1;33m)\u001b[0m\u001b[1;33m\u001b[0m\u001b[0m\n\u001b[0;32m     24\u001b[0m \u001b[0mf\u001b[0m\u001b[1;33m.\u001b[0m\u001b[0msuptitle\u001b[0m\u001b[1;33m(\u001b[0m\u001b[0mtitle\u001b[0m\u001b[1;33m)\u001b[0m\u001b[1;33m\u001b[0m\u001b[0m\n\u001b[1;32m---> 25\u001b[1;33m \u001b[0mplt\u001b[0m\u001b[1;33m.\u001b[0m\u001b[0msavefig\u001b[0m\u001b[1;33m(\u001b[0m\u001b[1;34m\"images/{}.png\"\u001b[0m\u001b[1;33m.\u001b[0m\u001b[0mformat\u001b[0m\u001b[1;33m(\u001b[0m\u001b[0mtitle\u001b[0m\u001b[1;33m)\u001b[0m\u001b[1;33m,\u001b[0m \u001b[0mdpi\u001b[0m\u001b[1;33m=\u001b[0m\u001b[1;36m600\u001b[0m\u001b[1;33m)\u001b[0m\u001b[1;33m\u001b[0m\u001b[0m\n\u001b[0m\u001b[0;32m     26\u001b[0m \u001b[0mplt\u001b[0m\u001b[1;33m.\u001b[0m\u001b[0mshow\u001b[0m\u001b[1;33m(\u001b[0m\u001b[1;33m)\u001b[0m\u001b[1;33m\u001b[0m\u001b[0m\n",
      "\u001b[1;32m~\\Anaconda3\\lib\\site-packages\\matplotlib\\pyplot.py\u001b[0m in \u001b[0;36msavefig\u001b[1;34m(*args, **kwargs)\u001b[0m\n\u001b[0;32m    695\u001b[0m \u001b[1;32mdef\u001b[0m \u001b[0msavefig\u001b[0m\u001b[1;33m(\u001b[0m\u001b[1;33m*\u001b[0m\u001b[0margs\u001b[0m\u001b[1;33m,\u001b[0m \u001b[1;33m**\u001b[0m\u001b[0mkwargs\u001b[0m\u001b[1;33m)\u001b[0m\u001b[1;33m:\u001b[0m\u001b[1;33m\u001b[0m\u001b[0m\n\u001b[0;32m    696\u001b[0m     \u001b[0mfig\u001b[0m \u001b[1;33m=\u001b[0m \u001b[0mgcf\u001b[0m\u001b[1;33m(\u001b[0m\u001b[1;33m)\u001b[0m\u001b[1;33m\u001b[0m\u001b[0m\n\u001b[1;32m--> 697\u001b[1;33m     \u001b[0mres\u001b[0m \u001b[1;33m=\u001b[0m \u001b[0mfig\u001b[0m\u001b[1;33m.\u001b[0m\u001b[0msavefig\u001b[0m\u001b[1;33m(\u001b[0m\u001b[1;33m*\u001b[0m\u001b[0margs\u001b[0m\u001b[1;33m,\u001b[0m \u001b[1;33m**\u001b[0m\u001b[0mkwargs\u001b[0m\u001b[1;33m)\u001b[0m\u001b[1;33m\u001b[0m\u001b[0m\n\u001b[0m\u001b[0;32m    698\u001b[0m     \u001b[0mfig\u001b[0m\u001b[1;33m.\u001b[0m\u001b[0mcanvas\u001b[0m\u001b[1;33m.\u001b[0m\u001b[0mdraw_idle\u001b[0m\u001b[1;33m(\u001b[0m\u001b[1;33m)\u001b[0m   \u001b[1;31m# need this if 'transparent=True' to reset colors\u001b[0m\u001b[1;33m\u001b[0m\u001b[0m\n\u001b[0;32m    699\u001b[0m     \u001b[1;32mreturn\u001b[0m \u001b[0mres\u001b[0m\u001b[1;33m\u001b[0m\u001b[0m\n",
      "\u001b[1;32m~\\Anaconda3\\lib\\site-packages\\matplotlib\\figure.py\u001b[0m in \u001b[0;36msavefig\u001b[1;34m(self, fname, **kwargs)\u001b[0m\n\u001b[0;32m   1812\u001b[0m             \u001b[0mself\u001b[0m\u001b[1;33m.\u001b[0m\u001b[0mset_frameon\u001b[0m\u001b[1;33m(\u001b[0m\u001b[0mframeon\u001b[0m\u001b[1;33m)\u001b[0m\u001b[1;33m\u001b[0m\u001b[0m\n\u001b[0;32m   1813\u001b[0m \u001b[1;33m\u001b[0m\u001b[0m\n\u001b[1;32m-> 1814\u001b[1;33m         \u001b[0mself\u001b[0m\u001b[1;33m.\u001b[0m\u001b[0mcanvas\u001b[0m\u001b[1;33m.\u001b[0m\u001b[0mprint_figure\u001b[0m\u001b[1;33m(\u001b[0m\u001b[0mfname\u001b[0m\u001b[1;33m,\u001b[0m \u001b[1;33m**\u001b[0m\u001b[0mkwargs\u001b[0m\u001b[1;33m)\u001b[0m\u001b[1;33m\u001b[0m\u001b[0m\n\u001b[0m\u001b[0;32m   1815\u001b[0m \u001b[1;33m\u001b[0m\u001b[0m\n\u001b[0;32m   1816\u001b[0m         \u001b[1;32mif\u001b[0m \u001b[0mframeon\u001b[0m\u001b[1;33m:\u001b[0m\u001b[1;33m\u001b[0m\u001b[0m\n",
      "\u001b[1;32m~\\Anaconda3\\lib\\site-packages\\matplotlib\\backend_bases.py\u001b[0m in \u001b[0;36mprint_figure\u001b[1;34m(self, filename, dpi, facecolor, edgecolor, orientation, format, **kwargs)\u001b[0m\n\u001b[0;32m   2257\u001b[0m                 \u001b[0morientation\u001b[0m\u001b[1;33m=\u001b[0m\u001b[0morientation\u001b[0m\u001b[1;33m,\u001b[0m\u001b[1;33m\u001b[0m\u001b[0m\n\u001b[0;32m   2258\u001b[0m                 \u001b[0mbbox_inches_restore\u001b[0m\u001b[1;33m=\u001b[0m\u001b[0m_bbox_inches_restore\u001b[0m\u001b[1;33m,\u001b[0m\u001b[1;33m\u001b[0m\u001b[0m\n\u001b[1;32m-> 2259\u001b[1;33m                 **kwargs)\n\u001b[0m\u001b[0;32m   2260\u001b[0m         \u001b[1;32mfinally\u001b[0m\u001b[1;33m:\u001b[0m\u001b[1;33m\u001b[0m\u001b[0m\n\u001b[0;32m   2261\u001b[0m             \u001b[1;32mif\u001b[0m \u001b[0mbbox_inches\u001b[0m \u001b[1;32mand\u001b[0m \u001b[0mrestore_bbox\u001b[0m\u001b[1;33m:\u001b[0m\u001b[1;33m\u001b[0m\u001b[0m\n",
      "\u001b[1;32m~\\Anaconda3\\lib\\site-packages\\matplotlib\\backends\\backend_agg.py\u001b[0m in \u001b[0;36mprint_png\u001b[1;34m(self, filename_or_obj, *args, **kwargs)\u001b[0m\n\u001b[0;32m    505\u001b[0m \u001b[1;33m\u001b[0m\u001b[0m\n\u001b[0;32m    506\u001b[0m     \u001b[1;32mdef\u001b[0m \u001b[0mprint_png\u001b[0m\u001b[1;33m(\u001b[0m\u001b[0mself\u001b[0m\u001b[1;33m,\u001b[0m \u001b[0mfilename_or_obj\u001b[0m\u001b[1;33m,\u001b[0m \u001b[1;33m*\u001b[0m\u001b[0margs\u001b[0m\u001b[1;33m,\u001b[0m \u001b[1;33m**\u001b[0m\u001b[0mkwargs\u001b[0m\u001b[1;33m)\u001b[0m\u001b[1;33m:\u001b[0m\u001b[1;33m\u001b[0m\u001b[0m\n\u001b[1;32m--> 507\u001b[1;33m         \u001b[0mFigureCanvasAgg\u001b[0m\u001b[1;33m.\u001b[0m\u001b[0mdraw\u001b[0m\u001b[1;33m(\u001b[0m\u001b[0mself\u001b[0m\u001b[1;33m)\u001b[0m\u001b[1;33m\u001b[0m\u001b[0m\n\u001b[0m\u001b[0;32m    508\u001b[0m         \u001b[0mrenderer\u001b[0m \u001b[1;33m=\u001b[0m \u001b[0mself\u001b[0m\u001b[1;33m.\u001b[0m\u001b[0mget_renderer\u001b[0m\u001b[1;33m(\u001b[0m\u001b[1;33m)\u001b[0m\u001b[1;33m\u001b[0m\u001b[0m\n\u001b[0;32m    509\u001b[0m         \u001b[0moriginal_dpi\u001b[0m \u001b[1;33m=\u001b[0m \u001b[0mrenderer\u001b[0m\u001b[1;33m.\u001b[0m\u001b[0mdpi\u001b[0m\u001b[1;33m\u001b[0m\u001b[0m\n",
      "\u001b[1;32m~\\Anaconda3\\lib\\site-packages\\matplotlib\\backends\\backend_agg.py\u001b[0m in \u001b[0;36mdraw\u001b[1;34m(self)\u001b[0m\n\u001b[0;32m    428\u001b[0m             \u001b[1;32mif\u001b[0m \u001b[0mtoolbar\u001b[0m\u001b[1;33m:\u001b[0m\u001b[1;33m\u001b[0m\u001b[0m\n\u001b[0;32m    429\u001b[0m                 \u001b[0mtoolbar\u001b[0m\u001b[1;33m.\u001b[0m\u001b[0mset_cursor\u001b[0m\u001b[1;33m(\u001b[0m\u001b[0mcursors\u001b[0m\u001b[1;33m.\u001b[0m\u001b[0mWAIT\u001b[0m\u001b[1;33m)\u001b[0m\u001b[1;33m\u001b[0m\u001b[0m\n\u001b[1;32m--> 430\u001b[1;33m             \u001b[0mself\u001b[0m\u001b[1;33m.\u001b[0m\u001b[0mfigure\u001b[0m\u001b[1;33m.\u001b[0m\u001b[0mdraw\u001b[0m\u001b[1;33m(\u001b[0m\u001b[0mself\u001b[0m\u001b[1;33m.\u001b[0m\u001b[0mrenderer\u001b[0m\u001b[1;33m)\u001b[0m\u001b[1;33m\u001b[0m\u001b[0m\n\u001b[0m\u001b[0;32m    431\u001b[0m         \u001b[1;32mfinally\u001b[0m\u001b[1;33m:\u001b[0m\u001b[1;33m\u001b[0m\u001b[0m\n\u001b[0;32m    432\u001b[0m             \u001b[1;32mif\u001b[0m \u001b[0mtoolbar\u001b[0m\u001b[1;33m:\u001b[0m\u001b[1;33m\u001b[0m\u001b[0m\n",
      "\u001b[1;32m~\\Anaconda3\\lib\\site-packages\\matplotlib\\artist.py\u001b[0m in \u001b[0;36mdraw_wrapper\u001b[1;34m(artist, renderer, *args, **kwargs)\u001b[0m\n\u001b[0;32m     53\u001b[0m                 \u001b[0mrenderer\u001b[0m\u001b[1;33m.\u001b[0m\u001b[0mstart_filter\u001b[0m\u001b[1;33m(\u001b[0m\u001b[1;33m)\u001b[0m\u001b[1;33m\u001b[0m\u001b[0m\n\u001b[0;32m     54\u001b[0m \u001b[1;33m\u001b[0m\u001b[0m\n\u001b[1;32m---> 55\u001b[1;33m             \u001b[1;32mreturn\u001b[0m \u001b[0mdraw\u001b[0m\u001b[1;33m(\u001b[0m\u001b[0martist\u001b[0m\u001b[1;33m,\u001b[0m \u001b[0mrenderer\u001b[0m\u001b[1;33m,\u001b[0m \u001b[1;33m*\u001b[0m\u001b[0margs\u001b[0m\u001b[1;33m,\u001b[0m \u001b[1;33m**\u001b[0m\u001b[0mkwargs\u001b[0m\u001b[1;33m)\u001b[0m\u001b[1;33m\u001b[0m\u001b[0m\n\u001b[0m\u001b[0;32m     56\u001b[0m         \u001b[1;32mfinally\u001b[0m\u001b[1;33m:\u001b[0m\u001b[1;33m\u001b[0m\u001b[0m\n\u001b[0;32m     57\u001b[0m             \u001b[1;32mif\u001b[0m \u001b[0martist\u001b[0m\u001b[1;33m.\u001b[0m\u001b[0mget_agg_filter\u001b[0m\u001b[1;33m(\u001b[0m\u001b[1;33m)\u001b[0m \u001b[1;32mis\u001b[0m \u001b[1;32mnot\u001b[0m \u001b[1;32mNone\u001b[0m\u001b[1;33m:\u001b[0m\u001b[1;33m\u001b[0m\u001b[0m\n",
      "\u001b[1;32m~\\Anaconda3\\lib\\site-packages\\matplotlib\\figure.py\u001b[0m in \u001b[0;36mdraw\u001b[1;34m(self, renderer)\u001b[0m\n\u001b[0;32m   1293\u001b[0m \u001b[1;33m\u001b[0m\u001b[0m\n\u001b[0;32m   1294\u001b[0m             mimage._draw_list_compositing_images(\n\u001b[1;32m-> 1295\u001b[1;33m                 renderer, self, artists, self.suppressComposite)\n\u001b[0m\u001b[0;32m   1296\u001b[0m \u001b[1;33m\u001b[0m\u001b[0m\n\u001b[0;32m   1297\u001b[0m             \u001b[0mrenderer\u001b[0m\u001b[1;33m.\u001b[0m\u001b[0mclose_group\u001b[0m\u001b[1;33m(\u001b[0m\u001b[1;34m'figure'\u001b[0m\u001b[1;33m)\u001b[0m\u001b[1;33m\u001b[0m\u001b[0m\n",
      "\u001b[1;32m~\\Anaconda3\\lib\\site-packages\\matplotlib\\image.py\u001b[0m in \u001b[0;36m_draw_list_compositing_images\u001b[1;34m(renderer, parent, artists, suppress_composite)\u001b[0m\n\u001b[0;32m    136\u001b[0m     \u001b[1;32mif\u001b[0m \u001b[0mnot_composite\u001b[0m \u001b[1;32mor\u001b[0m \u001b[1;32mnot\u001b[0m \u001b[0mhas_images\u001b[0m\u001b[1;33m:\u001b[0m\u001b[1;33m\u001b[0m\u001b[0m\n\u001b[0;32m    137\u001b[0m         \u001b[1;32mfor\u001b[0m \u001b[0ma\u001b[0m \u001b[1;32min\u001b[0m \u001b[0martists\u001b[0m\u001b[1;33m:\u001b[0m\u001b[1;33m\u001b[0m\u001b[0m\n\u001b[1;32m--> 138\u001b[1;33m             \u001b[0ma\u001b[0m\u001b[1;33m.\u001b[0m\u001b[0mdraw\u001b[0m\u001b[1;33m(\u001b[0m\u001b[0mrenderer\u001b[0m\u001b[1;33m)\u001b[0m\u001b[1;33m\u001b[0m\u001b[0m\n\u001b[0m\u001b[0;32m    139\u001b[0m     \u001b[1;32melse\u001b[0m\u001b[1;33m:\u001b[0m\u001b[1;33m\u001b[0m\u001b[0m\n\u001b[0;32m    140\u001b[0m         \u001b[1;31m# Composite any adjacent images together\u001b[0m\u001b[1;33m\u001b[0m\u001b[1;33m\u001b[0m\u001b[0m\n",
      "\u001b[1;32m~\\Anaconda3\\lib\\site-packages\\matplotlib\\artist.py\u001b[0m in \u001b[0;36mdraw_wrapper\u001b[1;34m(artist, renderer, *args, **kwargs)\u001b[0m\n\u001b[0;32m     53\u001b[0m                 \u001b[0mrenderer\u001b[0m\u001b[1;33m.\u001b[0m\u001b[0mstart_filter\u001b[0m\u001b[1;33m(\u001b[0m\u001b[1;33m)\u001b[0m\u001b[1;33m\u001b[0m\u001b[0m\n\u001b[0;32m     54\u001b[0m \u001b[1;33m\u001b[0m\u001b[0m\n\u001b[1;32m---> 55\u001b[1;33m             \u001b[1;32mreturn\u001b[0m \u001b[0mdraw\u001b[0m\u001b[1;33m(\u001b[0m\u001b[0martist\u001b[0m\u001b[1;33m,\u001b[0m \u001b[0mrenderer\u001b[0m\u001b[1;33m,\u001b[0m \u001b[1;33m*\u001b[0m\u001b[0margs\u001b[0m\u001b[1;33m,\u001b[0m \u001b[1;33m**\u001b[0m\u001b[0mkwargs\u001b[0m\u001b[1;33m)\u001b[0m\u001b[1;33m\u001b[0m\u001b[0m\n\u001b[0m\u001b[0;32m     56\u001b[0m         \u001b[1;32mfinally\u001b[0m\u001b[1;33m:\u001b[0m\u001b[1;33m\u001b[0m\u001b[0m\n\u001b[0;32m     57\u001b[0m             \u001b[1;32mif\u001b[0m \u001b[0martist\u001b[0m\u001b[1;33m.\u001b[0m\u001b[0mget_agg_filter\u001b[0m\u001b[1;33m(\u001b[0m\u001b[1;33m)\u001b[0m \u001b[1;32mis\u001b[0m \u001b[1;32mnot\u001b[0m \u001b[1;32mNone\u001b[0m\u001b[1;33m:\u001b[0m\u001b[1;33m\u001b[0m\u001b[0m\n",
      "\u001b[1;32m~\\Anaconda3\\lib\\site-packages\\matplotlib\\text.py\u001b[0m in \u001b[0;36mdraw\u001b[1;34m(self, renderer)\u001b[0m\n\u001b[0;32m    753\u001b[0m \u001b[1;33m\u001b[0m\u001b[0m\n\u001b[0;32m    754\u001b[0m         \u001b[1;32mwith\u001b[0m \u001b[0m_wrap_text\u001b[0m\u001b[1;33m(\u001b[0m\u001b[0mself\u001b[0m\u001b[1;33m)\u001b[0m \u001b[1;32mas\u001b[0m \u001b[0mtextobj\u001b[0m\u001b[1;33m:\u001b[0m\u001b[1;33m\u001b[0m\u001b[0m\n\u001b[1;32m--> 755\u001b[1;33m             \u001b[0mbbox\u001b[0m\u001b[1;33m,\u001b[0m \u001b[0minfo\u001b[0m\u001b[1;33m,\u001b[0m \u001b[0mdescent\u001b[0m \u001b[1;33m=\u001b[0m \u001b[0mtextobj\u001b[0m\u001b[1;33m.\u001b[0m\u001b[0m_get_layout\u001b[0m\u001b[1;33m(\u001b[0m\u001b[0mrenderer\u001b[0m\u001b[1;33m)\u001b[0m\u001b[1;33m\u001b[0m\u001b[0m\n\u001b[0m\u001b[0;32m    756\u001b[0m             \u001b[0mtrans\u001b[0m \u001b[1;33m=\u001b[0m \u001b[0mtextobj\u001b[0m\u001b[1;33m.\u001b[0m\u001b[0mget_transform\u001b[0m\u001b[1;33m(\u001b[0m\u001b[1;33m)\u001b[0m\u001b[1;33m\u001b[0m\u001b[0m\n\u001b[0;32m    757\u001b[0m \u001b[1;33m\u001b[0m\u001b[0m\n",
      "\u001b[1;32m~\\Anaconda3\\lib\\site-packages\\matplotlib\\text.py\u001b[0m in \u001b[0;36m_get_layout\u001b[1;34m(self, renderer)\u001b[0m\n\u001b[0;32m    352\u001b[0m         tmp, lp_h, lp_bl = renderer.get_text_width_height_descent('lp',\n\u001b[0;32m    353\u001b[0m                                                          \u001b[0mself\u001b[0m\u001b[1;33m.\u001b[0m\u001b[0m_fontproperties\u001b[0m\u001b[1;33m,\u001b[0m\u001b[1;33m\u001b[0m\u001b[0m\n\u001b[1;32m--> 354\u001b[1;33m                                                          ismath=False)\n\u001b[0m\u001b[0;32m    355\u001b[0m         \u001b[0moffsety\u001b[0m \u001b[1;33m=\u001b[0m \u001b[1;33m(\u001b[0m\u001b[0mlp_h\u001b[0m \u001b[1;33m-\u001b[0m \u001b[0mlp_bl\u001b[0m\u001b[1;33m)\u001b[0m \u001b[1;33m*\u001b[0m \u001b[0mself\u001b[0m\u001b[1;33m.\u001b[0m\u001b[0m_linespacing\u001b[0m\u001b[1;33m\u001b[0m\u001b[0m\n\u001b[0;32m    356\u001b[0m \u001b[1;33m\u001b[0m\u001b[0m\n",
      "\u001b[1;32m~\\Anaconda3\\lib\\site-packages\\matplotlib\\backends\\backend_agg.py\u001b[0m in \u001b[0;36mget_text_width_height_descent\u001b[1;34m(self, s, prop, ismath)\u001b[0m\n\u001b[0;32m    233\u001b[0m \u001b[1;33m\u001b[0m\u001b[0m\n\u001b[0;32m    234\u001b[0m         \u001b[0mflags\u001b[0m \u001b[1;33m=\u001b[0m \u001b[0mget_hinting_flag\u001b[0m\u001b[1;33m(\u001b[0m\u001b[1;33m)\u001b[0m\u001b[1;33m\u001b[0m\u001b[0m\n\u001b[1;32m--> 235\u001b[1;33m         \u001b[0mfont\u001b[0m \u001b[1;33m=\u001b[0m \u001b[0mself\u001b[0m\u001b[1;33m.\u001b[0m\u001b[0m_get_agg_font\u001b[0m\u001b[1;33m(\u001b[0m\u001b[0mprop\u001b[0m\u001b[1;33m)\u001b[0m\u001b[1;33m\u001b[0m\u001b[0m\n\u001b[0m\u001b[0;32m    236\u001b[0m         \u001b[0mfont\u001b[0m\u001b[1;33m.\u001b[0m\u001b[0mset_text\u001b[0m\u001b[1;33m(\u001b[0m\u001b[0ms\u001b[0m\u001b[1;33m,\u001b[0m \u001b[1;36m0.0\u001b[0m\u001b[1;33m,\u001b[0m \u001b[0mflags\u001b[0m\u001b[1;33m=\u001b[0m\u001b[0mflags\u001b[0m\u001b[1;33m)\u001b[0m  \u001b[1;31m# the width and height of unrotated string\u001b[0m\u001b[1;33m\u001b[0m\u001b[0m\n\u001b[0;32m    237\u001b[0m         \u001b[0mw\u001b[0m\u001b[1;33m,\u001b[0m \u001b[0mh\u001b[0m \u001b[1;33m=\u001b[0m \u001b[0mfont\u001b[0m\u001b[1;33m.\u001b[0m\u001b[0mget_width_height\u001b[0m\u001b[1;33m(\u001b[0m\u001b[1;33m)\u001b[0m\u001b[1;33m\u001b[0m\u001b[0m\n",
      "\u001b[1;32m~\\Anaconda3\\lib\\site-packages\\matplotlib\\backends\\backend_agg.py\u001b[0m in \u001b[0;36m_get_agg_font\u001b[1;34m(self, prop)\u001b[0m\n\u001b[0;32m    267\u001b[0m         \u001b[0mGet\u001b[0m \u001b[0mthe\u001b[0m \u001b[0mfont\u001b[0m \u001b[1;32mfor\u001b[0m \u001b[0mtext\u001b[0m \u001b[0minstance\u001b[0m \u001b[0mt\u001b[0m\u001b[1;33m,\u001b[0m \u001b[0mcacheing\u001b[0m \u001b[1;32mfor\u001b[0m \u001b[0mefficiency\u001b[0m\u001b[1;33m\u001b[0m\u001b[0m\n\u001b[0;32m    268\u001b[0m         \"\"\"\n\u001b[1;32m--> 269\u001b[1;33m         \u001b[0mfname\u001b[0m \u001b[1;33m=\u001b[0m \u001b[0mfindfont\u001b[0m\u001b[1;33m(\u001b[0m\u001b[0mprop\u001b[0m\u001b[1;33m)\u001b[0m\u001b[1;33m\u001b[0m\u001b[0m\n\u001b[0m\u001b[0;32m    270\u001b[0m         font = get_font(\n\u001b[0;32m    271\u001b[0m             \u001b[0mfname\u001b[0m\u001b[1;33m,\u001b[0m\u001b[1;33m\u001b[0m\u001b[0m\n",
      "\u001b[1;32m~\\Anaconda3\\lib\\site-packages\\matplotlib\\font_manager.py\u001b[0m in \u001b[0;36mfindfont\u001b[1;34m(prop, **kw)\u001b[0m\n\u001b[0;32m   1458\u001b[0m     \u001b[1;32mdef\u001b[0m \u001b[0mfindfont\u001b[0m\u001b[1;33m(\u001b[0m\u001b[0mprop\u001b[0m\u001b[1;33m,\u001b[0m \u001b[1;33m**\u001b[0m\u001b[0mkw\u001b[0m\u001b[1;33m)\u001b[0m\u001b[1;33m:\u001b[0m\u001b[1;33m\u001b[0m\u001b[0m\n\u001b[0;32m   1459\u001b[0m         \u001b[1;32mglobal\u001b[0m \u001b[0mfontManager\u001b[0m\u001b[1;33m\u001b[0m\u001b[0m\n\u001b[1;32m-> 1460\u001b[1;33m         \u001b[0mfont\u001b[0m \u001b[1;33m=\u001b[0m \u001b[0mfontManager\u001b[0m\u001b[1;33m.\u001b[0m\u001b[0mfindfont\u001b[0m\u001b[1;33m(\u001b[0m\u001b[0mprop\u001b[0m\u001b[1;33m,\u001b[0m \u001b[1;33m**\u001b[0m\u001b[0mkw\u001b[0m\u001b[1;33m)\u001b[0m\u001b[1;33m\u001b[0m\u001b[0m\n\u001b[0m\u001b[0;32m   1461\u001b[0m         \u001b[1;32mreturn\u001b[0m \u001b[0mfont\u001b[0m\u001b[1;33m\u001b[0m\u001b[0m\n",
      "\u001b[1;32m~\\Anaconda3\\lib\\site-packages\\matplotlib\\font_manager.py\u001b[0m in \u001b[0;36mfindfont\u001b[1;34m(self, prop, fontext, directory, fallback_to_default, rebuild_if_missing)\u001b[0m\n\u001b[0;32m   1329\u001b[0m             verbose.report(\n\u001b[0;32m   1330\u001b[0m                 \u001b[1;34m'findfont: Matching %s to %s (%s) with score of %f'\u001b[0m \u001b[1;33m%\u001b[0m\u001b[1;33m\u001b[0m\u001b[0m\n\u001b[1;32m-> 1331\u001b[1;33m                 (prop, best_font.name, repr(best_font.fname), best_score))\n\u001b[0m\u001b[0;32m   1332\u001b[0m             \u001b[0mresult\u001b[0m \u001b[1;33m=\u001b[0m \u001b[0mbest_font\u001b[0m\u001b[1;33m.\u001b[0m\u001b[0mfname\u001b[0m\u001b[1;33m\u001b[0m\u001b[0m\n\u001b[0;32m   1333\u001b[0m \u001b[1;33m\u001b[0m\u001b[0m\n",
      "\u001b[1;32m~\\Anaconda3\\lib\\site-packages\\matplotlib\\font_manager.py\u001b[0m in \u001b[0;36m__str__\u001b[1;34m(self)\u001b[0m\n\u001b[0;32m    720\u001b[0m \u001b[1;33m\u001b[0m\u001b[0m\n\u001b[0;32m    721\u001b[0m     \u001b[1;32mdef\u001b[0m \u001b[0m__str__\u001b[0m\u001b[1;33m(\u001b[0m\u001b[0mself\u001b[0m\u001b[1;33m)\u001b[0m\u001b[1;33m:\u001b[0m\u001b[1;33m\u001b[0m\u001b[0m\n\u001b[1;32m--> 722\u001b[1;33m         \u001b[1;32mreturn\u001b[0m \u001b[0mself\u001b[0m\u001b[1;33m.\u001b[0m\u001b[0mget_fontconfig_pattern\u001b[0m\u001b[1;33m(\u001b[0m\u001b[1;33m)\u001b[0m\u001b[1;33m\u001b[0m\u001b[0m\n\u001b[0m\u001b[0;32m    723\u001b[0m \u001b[1;33m\u001b[0m\u001b[0m\n\u001b[0;32m    724\u001b[0m     \u001b[1;32mdef\u001b[0m \u001b[0mget_family\u001b[0m\u001b[1;33m(\u001b[0m\u001b[0mself\u001b[0m\u001b[1;33m)\u001b[0m\u001b[1;33m:\u001b[0m\u001b[1;33m\u001b[0m\u001b[0m\n",
      "\u001b[1;32m~\\Anaconda3\\lib\\site-packages\\matplotlib\\font_manager.py\u001b[0m in \u001b[0;36mget_fontconfig_pattern\u001b[1;34m(self)\u001b[0m\n\u001b[0;32m    794\u001b[0m         \u001b[0mpattern\u001b[0m \u001b[0msyntax\u001b[0m \u001b[1;32mfor\u001b[0m \u001b[0muse\u001b[0m \u001b[0mhere\u001b[0m\u001b[1;33m.\u001b[0m\u001b[1;33m\u001b[0m\u001b[0m\n\u001b[0;32m    795\u001b[0m         \"\"\"\n\u001b[1;32m--> 796\u001b[1;33m         \u001b[1;32mreturn\u001b[0m \u001b[0mgenerate_fontconfig_pattern\u001b[0m\u001b[1;33m(\u001b[0m\u001b[0mself\u001b[0m\u001b[1;33m)\u001b[0m\u001b[1;33m\u001b[0m\u001b[0m\n\u001b[0m\u001b[0;32m    797\u001b[0m \u001b[1;33m\u001b[0m\u001b[0m\n\u001b[0;32m    798\u001b[0m     \u001b[1;32mdef\u001b[0m \u001b[0mset_family\u001b[0m\u001b[1;33m(\u001b[0m\u001b[0mself\u001b[0m\u001b[1;33m,\u001b[0m \u001b[0mfamily\u001b[0m\u001b[1;33m)\u001b[0m\u001b[1;33m:\u001b[0m\u001b[1;33m\u001b[0m\u001b[0m\n",
      "\u001b[1;32m~\\Anaconda3\\lib\\site-packages\\matplotlib\\fontconfig_pattern.py\u001b[0m in \u001b[0;36mgenerate_fontconfig_pattern\u001b[1;34m(d)\u001b[0m\n\u001b[0;32m    193\u001b[0m         \u001b[1;32mif\u001b[0m \u001b[0mval\u001b[0m \u001b[1;32mis\u001b[0m \u001b[1;32mnot\u001b[0m \u001b[1;32mNone\u001b[0m \u001b[1;32mand\u001b[0m \u001b[0mval\u001b[0m \u001b[1;33m!=\u001b[0m \u001b[1;33m[\u001b[0m\u001b[1;33m]\u001b[0m\u001b[1;33m:\u001b[0m\u001b[1;33m\u001b[0m\u001b[0m\n\u001b[0;32m    194\u001b[0m             \u001b[1;32mif\u001b[0m \u001b[0mtype\u001b[0m\u001b[1;33m(\u001b[0m\u001b[0mval\u001b[0m\u001b[1;33m)\u001b[0m \u001b[1;33m==\u001b[0m \u001b[0mlist\u001b[0m\u001b[1;33m:\u001b[0m\u001b[1;33m\u001b[0m\u001b[0m\n\u001b[1;32m--> 195\u001b[1;33m                 val = [value_escape(r'\\\\\\1', str(x)) for x in val\n\u001b[0m\u001b[0;32m    196\u001b[0m                        if x is not None]\n\u001b[0;32m    197\u001b[0m                 \u001b[1;32mif\u001b[0m \u001b[0mval\u001b[0m \u001b[1;33m!=\u001b[0m \u001b[1;33m[\u001b[0m\u001b[1;33m]\u001b[0m\u001b[1;33m:\u001b[0m\u001b[1;33m\u001b[0m\u001b[0m\n",
      "\u001b[1;32m~\\Anaconda3\\lib\\site-packages\\matplotlib\\fontconfig_pattern.py\u001b[0m in \u001b[0;36m<listcomp>\u001b[1;34m(.0)\u001b[0m\n\u001b[0;32m    194\u001b[0m             \u001b[1;32mif\u001b[0m \u001b[0mtype\u001b[0m\u001b[1;33m(\u001b[0m\u001b[0mval\u001b[0m\u001b[1;33m)\u001b[0m \u001b[1;33m==\u001b[0m \u001b[0mlist\u001b[0m\u001b[1;33m:\u001b[0m\u001b[1;33m\u001b[0m\u001b[0m\n\u001b[0;32m    195\u001b[0m                 val = [value_escape(r'\\\\\\1', str(x)) for x in val\n\u001b[1;32m--> 196\u001b[1;33m                        if x is not None]\n\u001b[0m\u001b[0;32m    197\u001b[0m                 \u001b[1;32mif\u001b[0m \u001b[0mval\u001b[0m \u001b[1;33m!=\u001b[0m \u001b[1;33m[\u001b[0m\u001b[1;33m]\u001b[0m\u001b[1;33m:\u001b[0m\u001b[1;33m\u001b[0m\u001b[0m\n\u001b[0;32m    198\u001b[0m                     \u001b[0mval\u001b[0m \u001b[1;33m=\u001b[0m \u001b[1;34m','\u001b[0m\u001b[1;33m.\u001b[0m\u001b[0mjoin\u001b[0m\u001b[1;33m(\u001b[0m\u001b[0mval\u001b[0m\u001b[1;33m)\u001b[0m\u001b[1;33m\u001b[0m\u001b[0m\n",
      "\u001b[1;32m~\\Anaconda3\\lib\\re.py\u001b[0m in \u001b[0;36m_subx\u001b[1;34m(pattern, template)\u001b[0m\n\u001b[0;32m    324\u001b[0m \u001b[1;32mdef\u001b[0m \u001b[0m_subx\u001b[0m\u001b[1;33m(\u001b[0m\u001b[0mpattern\u001b[0m\u001b[1;33m,\u001b[0m \u001b[0mtemplate\u001b[0m\u001b[1;33m)\u001b[0m\u001b[1;33m:\u001b[0m\u001b[1;33m\u001b[0m\u001b[0m\n\u001b[0;32m    325\u001b[0m     \u001b[1;31m# internal: pattern.sub/subn implementation helper\u001b[0m\u001b[1;33m\u001b[0m\u001b[1;33m\u001b[0m\u001b[0m\n\u001b[1;32m--> 326\u001b[1;33m     \u001b[0mtemplate\u001b[0m \u001b[1;33m=\u001b[0m \u001b[0m_compile_repl\u001b[0m\u001b[1;33m(\u001b[0m\u001b[0mtemplate\u001b[0m\u001b[1;33m,\u001b[0m \u001b[0mpattern\u001b[0m\u001b[1;33m)\u001b[0m\u001b[1;33m\u001b[0m\u001b[0m\n\u001b[0m\u001b[0;32m    327\u001b[0m     \u001b[1;32mif\u001b[0m \u001b[1;32mnot\u001b[0m \u001b[0mtemplate\u001b[0m\u001b[1;33m[\u001b[0m\u001b[1;36m0\u001b[0m\u001b[1;33m]\u001b[0m \u001b[1;32mand\u001b[0m \u001b[0mlen\u001b[0m\u001b[1;33m(\u001b[0m\u001b[0mtemplate\u001b[0m\u001b[1;33m[\u001b[0m\u001b[1;36m1\u001b[0m\u001b[1;33m]\u001b[0m\u001b[1;33m)\u001b[0m \u001b[1;33m==\u001b[0m \u001b[1;36m1\u001b[0m\u001b[1;33m:\u001b[0m\u001b[1;33m\u001b[0m\u001b[0m\n\u001b[0;32m    328\u001b[0m         \u001b[1;31m# literal replacement\u001b[0m\u001b[1;33m\u001b[0m\u001b[1;33m\u001b[0m\u001b[0m\n",
      "\u001b[1;31mKeyboardInterrupt\u001b[0m: "
     ]
    }
   ],
   "source": [
    "# Plotting the degree correlated to the clustering coefficient\n",
    "deg_cc = pd.concat([pd.Series(dict_deg), pd.Series(dict_indeg), pd.Series(dict_outdeg), pd.Series(dict_clco)], axis=1)\n",
    "deg_cc.columns = (\"Degree\", \"In-Degree\", \"Out-Degree\",\"CC\")\n",
    "\n",
    "labels = [[\"Degree\", \"CC\"], [\"In-Degree\", \"CC\"], [\"Out-Degree\", \"CC\"]]\n",
    "\n",
    "data_deg = deg_cc[labels[0]].groupby(labels[0][0]).mean().reset_index()\n",
    "data_in  = deg_cc[labels[1]].groupby(labels[1][0]).mean().reset_index()\n",
    "data_out = deg_cc[labels[2]].groupby(labels[2][0]).mean().reset_index()\n",
    "data = [data_deg, data_in, data_out]\n",
    "\n",
    "f, (ax1, ax2, ax3) = plt.subplots(1, 3, sharey=True, sharex=True)\n",
    "f.set_figwidth(20)\n",
    "f.set_figheight(5)\n",
    "title = \"Degree_Vs_ClCoeff\"\n",
    "colors = ['dodgerblue','gold','violet']\n",
    "\n",
    "for names, df, ax, c in zip(labels, data, [ax1, ax2, ax3], colors):\n",
    "    values = df.values.astype(np.float)\n",
    "    ax.scatter(values[:,0], values[:,1],c=c, alpha=0.5)\n",
    "    ax.set_xlabel(names[0])\n",
    "    ax.set_ylabel(names[1])\n",
    "    ax.grid()\n",
    "f.suptitle(title)\n",
    "plt.savefig(\"images/{}.png\".format(title), dpi=600)\n",
    "plt.show()"
   ]
  },
  {
   "cell_type": "code",
   "execution_count": 230,
   "metadata": {},
   "outputs": [
    {
     "data": {
      "image/png": "[encoded data removed]",
      "text/plain": [
       "<matplotlib.figure.Figure at 0x12899bb1d0>"
      ]
     },
     "metadata": {},
     "output_type": "display_data"
    }
   ],
   "source": [
    "f, (ax1, ax2, ax3) = plt.subplots(1, 3, sharex=True, sharey=True)\n",
    "f.set_figwidth(20)\n",
    "f.set_figheight(5)\n",
    "title = \"Degrees histograms\"\n",
    "\n",
    "data = [dict_deg, dict_indeg, dict_outdeg]\n",
    "for names, degrees, ax, c in zip(labels, data, [ax1, ax2, ax3], colors):\n",
    "    d = list(degrees.values())\n",
    "    bins = np.bincount(d)\n",
    "    ax.plot(np.arange(0,len(bins)), bins, c)\n",
    "    ax.set_xlim([1,250])\n",
    "    ax.set_ylim([1,250])\n",
    "    #ax.hist(degrees.values(), bins=100)\n",
    "    #ax.set_yscale(\"log\")\n",
    "    ax.set_xlabel(names[0])\n",
    "    ax.set_ylabel(\"Occurences\")\n",
    "f.suptitle(title)\n",
    "plt.savefig(\"images/{}.png\".format(title), dpi=600)\n",
    "plt.show()"
   ]
  },
  {
   "cell_type": "code",
   "execution_count": 231,
   "metadata": {},
   "outputs": [
    {
     "data": {
      "image/png": "[encoded data removed]",
      "text/plain": [
       "<matplotlib.figure.Figure at 0x12f053af28>"
      ]
     },
     "metadata": {},
     "output_type": "display_data"
    }
   ],
   "source": [
    "import dzcnapy_plotlib as dzcnapy\n",
    "from collections import Counter\n",
    "\n",
    "deg = nx.degree(G)\n",
    "x, y = zip(*Counter([d for n, d in deg]).items())\n",
    "\n",
    "plt.scatter(x, y, s=100, c=\"pink\")\n",
    "plt.xscale(\"log\")\n",
    "plt.yscale(\"log\")\n",
    "plt.legend()\n",
    "plt.xlim(0.9, max(x))\n",
    "plt.ylim(0.9, max(y))\n",
    "plt.xlabel(\"Degree\")\n",
    "plt.ylabel(\"Frequency\")\n",
    "dzcnapy.plot(\"panama-beneficiaries\")"
   ]
  },
  {
   "cell_type": "code",
   "execution_count": 242,
   "metadata": {},
   "outputs": [
    {
     "name": "stdout",
     "output_type": "stream",
     "text": [
      "MEAN VALUES\n",
      "Degree        50.887562\n",
      "In-Degree     25.443781\n",
      "Out-Degree    25.443781\n",
      "CC             0.399355\n",
      "dtype: float64\n",
      "\n",
      "STANDARD DEVIATIONS\n",
      "Degree        60.157349\n",
      "In-Degree     27.970817\n",
      "Out-Degree    33.323927\n",
      "CC             0.251691\n",
      "dtype: float64\n"
     ]
    }
   ],
   "source": [
    "means = deg_cc.mean(axis=0)\n",
    "std_devs = deg_cc.std(axis=0)\n",
    "print(\"MEAN VALUES\")\n",
    "print(means)\n",
    "print(\"\\nSTANDARD DEVIATIONS\")\n",
    "print(std_devs)"
   ]
  },
  {
   "cell_type": "markdown",
   "metadata": {},
   "source": [
    "# Comparison with random models"
   ]
  },
  {
   "cell_type": "code",
   "execution_count": 243,
   "metadata": {},
   "outputs": [
    {
     "name": "stdout",
     "output_type": "stream",
     "text": [
      "BA  1005 48654\n",
      "HK  1005 47750\n"
     ]
    }
   ],
   "source": [
    "# Generate and draw random networks\n",
    "m = int(np.round(means[\"Degree\"]))\n",
    "G_BA = nx.barabasi_albert_graph(len(G), m)\n",
    "G_HK = nx.powerlaw_cluster_graph(len(G), m, 0.5)\n",
    "print(\"BA \", len(G_BA), len(G_BA.edges()))\n",
    "print(\"HK \", len(G_HK), len(G_HK.edges()))"
   ]
  },
  {
   "cell_type": "code",
   "execution_count": 244,
   "metadata": {},
   "outputs": [],
   "source": [
    "dict_clco2 = nx.clustering(G_BA)\n",
    "dict_deg2 = {node: val for (node, val) in G_BA.degree()}\n",
    "dict_clco3 = nx.clustering(G_HK)\n",
    "dict_deg3 = {node: val for (node, val) in G_HK.degree()}"
   ]
  },
  {
   "cell_type": "code",
   "execution_count": 151,
   "metadata": {},
   "outputs": [
    {
     "data": {
      "image/png": "[encoded data removed]",
      "text/plain": [
       "<matplotlib.figure.Figure at 0x12f0d142b0>"
      ]
     },
     "metadata": {},
     "output_type": "display_data"
    }
   ],
   "source": [
    "# Plotting the degree correlated to the clustering coefficient\n",
    "deg_cc2 = pd.concat([pd.Series(dict_deg2), pd.Series(dict_clco2)], axis=1)\n",
    "deg_cc2.columns = (\"Degree\",\"CC\")\n",
    "\n",
    "deg_cc3 = pd.concat([pd.Series(dict_deg3), pd.Series(dict_clco3)], axis=1)\n",
    "deg_cc3.columns = (\"Degree\",\"CC\")\n",
    "\n",
    "labels = [\"Degree\", \"CC\"]\n",
    "titles = [\"Original Graph\", \"Generated (Barabasi-Albert)\", \"Generated (Holme-Kim)\"]\n",
    "data_deg2 = deg_cc2[labels].groupby(labels[0]).mean().reset_index()\n",
    "data_deg3 = deg_cc3[labels].groupby(labels[0]).mean().reset_index()\n",
    "data = [data_deg, data_deg2, data_deg3]\n",
    "\n",
    "f, (ax1, ax2, ax3) = plt.subplots(1, 3, sharex=True)\n",
    "f.set_figwidth(20)\n",
    "f.set_figheight(5)\n",
    "title = \"Comparison with generated models (1)\"\n",
    "colors = ['coral', 'dodgerblue','dodgerblue']\n",
    "\n",
    "for t, df, ax, c in zip(titles, data, [ax1, ax2, ax3], colors):\n",
    "    values = df.values.astype(np.float)\n",
    "    ax.scatter(values[:,0], values[:,1],c=c, alpha=0.5)\n",
    "    ax.set_xlabel(labels[0])\n",
    "    ax.set_ylabel(labels[1])\n",
    "    ax.set_title(t)\n",
    "    ax.grid()\n",
    "f.suptitle(title)\n",
    "plt.savefig(\"images/{}.png\".format(title), dpi=600)\n",
    "plt.show()"
   ]
  },
  {
   "cell_type": "code",
   "execution_count": 152,
   "metadata": {},
   "outputs": [
    {
     "name": "stdout",
     "output_type": "stream",
     "text": [
      "[ 0 71 48 31 33 18 23 26 21  8  9 15 10  6 14 14 12 10  5 11 11  4  9 10  5\n",
      " 10  5 12 13  6  7 12 15  5  4  6 14 14  6  5 11 10  6 10  9  6 10  5  5 14\n",
      "  8  3  3  5 11  3  3  4  9  7  8  3  7  7  6  2  3  5  4  4  3  2  2  4  7\n",
      "  5  5  4  1  9  8  1  6  5  3  2  3  3  6  1  5  4  1  2  3  1  5  4  1  5\n",
      "  1  2  2  4  2  0  2  2  3  1  5  2  2  0  3  1  3  3  4  1  1  1  0  0  6\n",
      "  0  1  2  1  0  1  0  1  4  1  1  1  1  2  1  2  3  1  0  3  1  1  0  1  1\n",
      "  0  0  0  0  0  1  1  0  1  0  0  1  1  2  1  1  2  1  0  2  2  0  0  0  1\n",
      "  2  0  0  1  0  0  1  0  0  0  0  0  0  0  0  0  0  0  2  0  1  0  0  0  1\n",
      "  0  1  1  2  1  1  0  0  1  1  0  0  0  1  0  1  1  0  2  3  0  0  0  1  0\n",
      "  0  0  0  0  0  1  0  0  1  2  0  1  0  1  0  1  0  1  0  0  0  0  0  0  1\n",
      "  0  0  1  0  0  0  0  0  0  0  0  0  0  1  0  0  0  0  0  0  0  0  1  0  0\n",
      "  1  0  0  0  0  1  0  0  0  0  0  0  0  0  0  0  0  0  0  0  0  0  0  0  0\n",
      "  0  0  1  0  0  0  0  0  1  0  0  0  0  0  0  0  0  0  0  0  0  0  0  0  0\n",
      "  0  0  0  0  0  0  0  0  0  0  0  0  0  0  0  0  0  0  0  0  0  0  0  1  0\n",
      "  0  0  0  0  0  0  1  0  0  0  0  0  0  0  0  0  0  0  0  1  0  0  0  1  0\n",
      "  0  0  0  0  1  0  0  0  0  0  0  0  0  0  0  0  0  0  0  0  0  0  0  0  0\n",
      "  0  0  0  0  0  0  0  0  0  0  0  0  0  0  0  0  0  0  0  0  0  0  0  0  0\n",
      "  0  0  0  0  0  0  0  0  0  0  0  0  0  0  0  0  0  0  0  0  0  0  0  0  0\n",
      "  0  0  0  0  0  0  0  0  0  0  0  0  0  0  0  0  0  0  0  0  0  0  0  0  0\n",
      "  0  0  0  0  0  0  0  0  0  0  0  0  0  0  0  0  0  0  0  0  0  0  0  0  0\n",
      "  0  0  0  0  0  0  0  0  0  0  0  0  0  0  0  0  0  0  0  0  0  0  0  0  0\n",
      "  0  0  0  0  0  0  0  0  0  0  0  0  0  0  0  0  0  0  0  0  0  1]\n",
      "[ 0  0  0  0  0  0  0  0  0  0  0  0  0  0  0  0  0  0  0  0  0  0  0  0  0\n",
      "  0  0  0  0  0  0  0  0  0  0  0  0  0  0  0  0  0  0  0  0  0  0  0  0  0\n",
      "  0 34 33 29 26 27 36 22 26 20 20 19 18 14 26 15 17 24 14 14 12 16 14 13 11\n",
      " 19 12  9  8 13  8 11  8  8 10  6 12  8  3  6  8  9  5  6  9  4  2  2  2  7\n",
      "  8  5  8  3  2  4  6  5  3  4  6  6  5  6  5  3  3  4  2  2  8  2  3  4  5\n",
      "  5  4  1  3  1  4  4  1  1  2  2  3  2  2  4  0  0  2  2  1  2  5  1  4  2\n",
      "  1  3  1  3  4  2  2  1  1  3  4  1  3  4  1  2  1  2  4  4  3  0  0  0  0\n",
      "  0  1  2  1  2  0  1  1  1  1  2  0  0  1  1  0  0  0  2  1  3  2  1  2  0\n",
      "  0  1  2  2  1  0  1  0  1  1  1  0  0  2  0  2  1  0  0  1  0  0  1  0  1\n",
      "  1  0  1  0  0  0  0  1  0  1  0  0  0  0  1  0  0  0  0  0  1  3  0  0  0\n",
      "  1  0  1  0  1  0  1  0  0  0  0  1  0  0  2  0  0  0  0  1  0  1  0  0  0\n",
      "  0  0  2  1  0  0  0  0  0  0  0  0  1  0  1  0  0  0  2  0  0  1  0  1  0\n",
      "  0  0  0  0  0  1  0  1  1  1  1  1  0  0  0  0  0  0  0  0  0  1  0  0  0\n",
      "  0  0  1  0  0  1  0  0  0  0  1  0  1  0  1  1  1  1  0  0  0  0  0  0  0\n",
      "  1  0  1  0  0  0  0  1  0  0  0  0  0  0  0  0  0  0  0  0  0  0  0  0  0\n",
      "  0  0  0  0  0  0  0  0  0  0  0  0  1  1]\n",
      "[ 0  0  0  0  0  0  0  0  0  0  0  0  0  0  0  0  0  0  0  0  0  0  0  0  0\n",
      "  0  0  0  0  0  0  0  0  0  0  0  0  0  0  0  0  0  0  0  0  0  0  0  1  2\n",
      " 10 42 31 35 28 42 31 26 34 23 23 18 16 15 20 21 26 14 16 11 12 14 15 16 14\n",
      " 15 11  9  6  6  8 10  4  9  7  7  5 11 11  6  4  6  6  9  7  2  5  8  3  8\n",
      "  7  2  3  3  8  5  3  3  2  4  4  3  2  2  2  4  5  3  2  5  1  1  4  3  0\n",
      "  1  3  0  1  2  2  1  1  2  2  4  1  2  3  2  1  3  3  0  0  1  1  2  3  1\n",
      "  1  0  1  4  1  0  1  2  2  0  1  1  2  1  1  0  1  0  1  3  1  2  0  1  3\n",
      "  1  1  1  2  1  3  2  0  1  0  0  1  0  1  1  1  4  1  0  0  1  1  3  0  1\n",
      "  1  1  0  0  1  1  2  2  2  1  1  0  2  0  1  0  0  0  1  0  0  0  0  1  1\n",
      "  1  1  0  1  2  0  0  2  0  3  1  2  2  1  0  0  2  0  0  1  3  0  1  0  0\n",
      "  0  2  1  1  5  1  1  0  0  3  0  1  0  1  1  1  1  3  2  0  0  2  2  1  1\n",
      "  0  0  0  0  0  1  0  0  0  1  0  1  0  0  0  0  0  0  0  0  0  1  0  0  0\n",
      "  0  0  1  1  0  1  0  0  0  0  0  0  0  0  1  0  1  0  0  0  0  0  0  0  0\n",
      "  0  0  0  0  0  0  0  0  0  0  0  0  0  0  0  1  0  1  0  0  0  0  0  0  0\n",
      "  1  0  0  0  0  0  0  0  0  0  0  0  0  0  0  0  0  1  0  0  0  0  0  0  0\n",
      "  0  0  0  0  0  0  0  0  0  0  0  0  0  0  0  0  0  0  0  0  0  0  0  0  0\n",
      "  0  1  0  0  1]\n"
     ]
    },
    {
     "ename": "KeyboardInterrupt",
     "evalue": "",
     "output_type": "error",
     "traceback": [
      "\u001b[1;31m---------------------------------------------------------------------------\u001b[0m",
      "\u001b[1;31mKeyboardInterrupt\u001b[0m                         Traceback (most recent call last)",
      "\u001b[1;32m<ipython-input-152-708d1755e04c>\u001b[0m in \u001b[0;36m<module>\u001b[1;34m()\u001b[0m\n\u001b[0;32m     19\u001b[0m     \u001b[0max\u001b[0m\u001b[1;33m.\u001b[0m\u001b[0mset_title\u001b[0m\u001b[1;33m(\u001b[0m\u001b[0mt\u001b[0m\u001b[1;33m)\u001b[0m\u001b[1;33m\u001b[0m\u001b[0m\n\u001b[0;32m     20\u001b[0m \u001b[0mf\u001b[0m\u001b[1;33m.\u001b[0m\u001b[0msuptitle\u001b[0m\u001b[1;33m(\u001b[0m\u001b[0mtitle\u001b[0m\u001b[1;33m)\u001b[0m\u001b[1;33m\u001b[0m\u001b[0m\n\u001b[1;32m---> 21\u001b[1;33m \u001b[0mplt\u001b[0m\u001b[1;33m.\u001b[0m\u001b[0msavefig\u001b[0m\u001b[1;33m(\u001b[0m\u001b[1;34m\"images/{}.png\"\u001b[0m\u001b[1;33m.\u001b[0m\u001b[0mformat\u001b[0m\u001b[1;33m(\u001b[0m\u001b[0mtitle\u001b[0m\u001b[1;33m)\u001b[0m\u001b[1;33m,\u001b[0m \u001b[0mdpi\u001b[0m\u001b[1;33m=\u001b[0m\u001b[1;36m600\u001b[0m\u001b[1;33m)\u001b[0m\u001b[1;33m\u001b[0m\u001b[0m\n\u001b[0m\u001b[0;32m     22\u001b[0m \u001b[0mplt\u001b[0m\u001b[1;33m.\u001b[0m\u001b[0mshow\u001b[0m\u001b[1;33m(\u001b[0m\u001b[1;33m)\u001b[0m\u001b[1;33m\u001b[0m\u001b[0m\n",
      "\u001b[1;32m~\\Anaconda3\\lib\\site-packages\\matplotlib\\pyplot.py\u001b[0m in \u001b[0;36msavefig\u001b[1;34m(*args, **kwargs)\u001b[0m\n\u001b[0;32m    695\u001b[0m \u001b[1;32mdef\u001b[0m \u001b[0msavefig\u001b[0m\u001b[1;33m(\u001b[0m\u001b[1;33m*\u001b[0m\u001b[0margs\u001b[0m\u001b[1;33m,\u001b[0m \u001b[1;33m**\u001b[0m\u001b[0mkwargs\u001b[0m\u001b[1;33m)\u001b[0m\u001b[1;33m:\u001b[0m\u001b[1;33m\u001b[0m\u001b[0m\n\u001b[0;32m    696\u001b[0m     \u001b[0mfig\u001b[0m \u001b[1;33m=\u001b[0m \u001b[0mgcf\u001b[0m\u001b[1;33m(\u001b[0m\u001b[1;33m)\u001b[0m\u001b[1;33m\u001b[0m\u001b[0m\n\u001b[1;32m--> 697\u001b[1;33m     \u001b[0mres\u001b[0m \u001b[1;33m=\u001b[0m \u001b[0mfig\u001b[0m\u001b[1;33m.\u001b[0m\u001b[0msavefig\u001b[0m\u001b[1;33m(\u001b[0m\u001b[1;33m*\u001b[0m\u001b[0margs\u001b[0m\u001b[1;33m,\u001b[0m \u001b[1;33m**\u001b[0m\u001b[0mkwargs\u001b[0m\u001b[1;33m)\u001b[0m\u001b[1;33m\u001b[0m\u001b[0m\n\u001b[0m\u001b[0;32m    698\u001b[0m     \u001b[0mfig\u001b[0m\u001b[1;33m.\u001b[0m\u001b[0mcanvas\u001b[0m\u001b[1;33m.\u001b[0m\u001b[0mdraw_idle\u001b[0m\u001b[1;33m(\u001b[0m\u001b[1;33m)\u001b[0m   \u001b[1;31m# need this if 'transparent=True' to reset colors\u001b[0m\u001b[1;33m\u001b[0m\u001b[0m\n\u001b[0;32m    699\u001b[0m     \u001b[1;32mreturn\u001b[0m \u001b[0mres\u001b[0m\u001b[1;33m\u001b[0m\u001b[0m\n",
      "\u001b[1;32m~\\Anaconda3\\lib\\site-packages\\matplotlib\\figure.py\u001b[0m in \u001b[0;36msavefig\u001b[1;34m(self, fname, **kwargs)\u001b[0m\n\u001b[0;32m   1812\u001b[0m             \u001b[0mself\u001b[0m\u001b[1;33m.\u001b[0m\u001b[0mset_frameon\u001b[0m\u001b[1;33m(\u001b[0m\u001b[0mframeon\u001b[0m\u001b[1;33m)\u001b[0m\u001b[1;33m\u001b[0m\u001b[0m\n\u001b[0;32m   1813\u001b[0m \u001b[1;33m\u001b[0m\u001b[0m\n\u001b[1;32m-> 1814\u001b[1;33m         \u001b[0mself\u001b[0m\u001b[1;33m.\u001b[0m\u001b[0mcanvas\u001b[0m\u001b[1;33m.\u001b[0m\u001b[0mprint_figure\u001b[0m\u001b[1;33m(\u001b[0m\u001b[0mfname\u001b[0m\u001b[1;33m,\u001b[0m \u001b[1;33m**\u001b[0m\u001b[0mkwargs\u001b[0m\u001b[1;33m)\u001b[0m\u001b[1;33m\u001b[0m\u001b[0m\n\u001b[0m\u001b[0;32m   1815\u001b[0m \u001b[1;33m\u001b[0m\u001b[0m\n\u001b[0;32m   1816\u001b[0m         \u001b[1;32mif\u001b[0m \u001b[0mframeon\u001b[0m\u001b[1;33m:\u001b[0m\u001b[1;33m\u001b[0m\u001b[0m\n",
      "\u001b[1;32m~\\Anaconda3\\lib\\site-packages\\matplotlib\\backend_bases.py\u001b[0m in \u001b[0;36mprint_figure\u001b[1;34m(self, filename, dpi, facecolor, edgecolor, orientation, format, **kwargs)\u001b[0m\n\u001b[0;32m   2257\u001b[0m                 \u001b[0morientation\u001b[0m\u001b[1;33m=\u001b[0m\u001b[0morientation\u001b[0m\u001b[1;33m,\u001b[0m\u001b[1;33m\u001b[0m\u001b[0m\n\u001b[0;32m   2258\u001b[0m                 \u001b[0mbbox_inches_restore\u001b[0m\u001b[1;33m=\u001b[0m\u001b[0m_bbox_inches_restore\u001b[0m\u001b[1;33m,\u001b[0m\u001b[1;33m\u001b[0m\u001b[0m\n\u001b[1;32m-> 2259\u001b[1;33m                 **kwargs)\n\u001b[0m\u001b[0;32m   2260\u001b[0m         \u001b[1;32mfinally\u001b[0m\u001b[1;33m:\u001b[0m\u001b[1;33m\u001b[0m\u001b[0m\n\u001b[0;32m   2261\u001b[0m             \u001b[1;32mif\u001b[0m \u001b[0mbbox_inches\u001b[0m \u001b[1;32mand\u001b[0m \u001b[0mrestore_bbox\u001b[0m\u001b[1;33m:\u001b[0m\u001b[1;33m\u001b[0m\u001b[0m\n",
      "\u001b[1;32m~\\Anaconda3\\lib\\site-packages\\matplotlib\\backends\\backend_agg.py\u001b[0m in \u001b[0;36mprint_png\u001b[1;34m(self, filename_or_obj, *args, **kwargs)\u001b[0m\n\u001b[0;32m    510\u001b[0m         \u001b[0mrenderer\u001b[0m\u001b[1;33m.\u001b[0m\u001b[0mdpi\u001b[0m \u001b[1;33m=\u001b[0m \u001b[0mself\u001b[0m\u001b[1;33m.\u001b[0m\u001b[0mfigure\u001b[0m\u001b[1;33m.\u001b[0m\u001b[0mdpi\u001b[0m\u001b[1;33m\u001b[0m\u001b[0m\n\u001b[0;32m    511\u001b[0m         \u001b[1;32mif\u001b[0m \u001b[0misinstance\u001b[0m\u001b[1;33m(\u001b[0m\u001b[0mfilename_or_obj\u001b[0m\u001b[1;33m,\u001b[0m \u001b[0msix\u001b[0m\u001b[1;33m.\u001b[0m\u001b[0mstring_types\u001b[0m\u001b[1;33m)\u001b[0m\u001b[1;33m:\u001b[0m\u001b[1;33m\u001b[0m\u001b[0m\n\u001b[1;32m--> 512\u001b[1;33m             \u001b[0mfilename_or_obj\u001b[0m \u001b[1;33m=\u001b[0m \u001b[0mopen\u001b[0m\u001b[1;33m(\u001b[0m\u001b[0mfilename_or_obj\u001b[0m\u001b[1;33m,\u001b[0m \u001b[1;34m'wb'\u001b[0m\u001b[1;33m)\u001b[0m\u001b[1;33m\u001b[0m\u001b[0m\n\u001b[0m\u001b[0;32m    513\u001b[0m             \u001b[0mclose\u001b[0m \u001b[1;33m=\u001b[0m \u001b[1;32mTrue\u001b[0m\u001b[1;33m\u001b[0m\u001b[0m\n\u001b[0;32m    514\u001b[0m         \u001b[1;32melse\u001b[0m\u001b[1;33m:\u001b[0m\u001b[1;33m\u001b[0m\u001b[0m\n",
      "\u001b[1;31mKeyboardInterrupt\u001b[0m: "
     ]
    }
   ],
   "source": [
    "f, (ax1, ax2, ax3) = plt.subplots(1, 3, sharey=True)\n",
    "f.set_figwidth(20)\n",
    "f.set_figheight(5)\n",
    "title = \"Comparison with generated models (2)\"\n",
    "\n",
    "d1 = [val for (n, val) in  G.degree()]\n",
    "d2 = [val for (n, val) in G_BA.degree()]\n",
    "d3 = [val for (n, val) in G_HK.degree()]\n",
    "\n",
    "data = [d1, d2, d3]\n",
    "for t, d, ax, c in zip(titles, data, [ax1, ax2, ax3], colors):\n",
    "    bins = np.bincount(d)\n",
    "    print(bins)\n",
    "    ax.loglog(np.arange(0,len(bins)), bins, c=c)\n",
    "    #ax.hist(degrees.values(), bins=1000)\n",
    "    ax.set_ylim([1,400])\n",
    "    ax.set_xlabel(\"Degree\")\n",
    "    ax.set_ylabel(\"Occurences\")\n",
    "    ax.set_title(t)\n",
    "f.suptitle(title)\n",
    "plt.savefig(\"images/{}.png\".format(title), dpi=600)\n",
    "plt.show()"
   ]
  },
  {
   "cell_type": "code",
   "execution_count": 245,
   "metadata": {},
   "outputs": [
    {
     "name": "stdout",
     "output_type": "stream",
     "text": [
      "Node:  160\n",
      "{'department': 36}\n",
      "degree:  546\n"
     ]
    }
   ],
   "source": [
    "# selecting node with max degree\n",
    "best_node = max(dict_deg.keys(), key=(lambda key: dict_deg[key]))\n",
    "print(\"Node: \", best_node)\n",
    "print(G.nodes[best_node])\n",
    "print(\"degree: \", dict_deg[best_node])"
   ]
  },
  {
   "cell_type": "code",
   "execution_count": 246,
   "metadata": {},
   "outputs": [
    {
     "name": "stdout",
     "output_type": "stream",
     "text": [
      "Node:  160\n",
      "{'department': 36}\n",
      "degree:  546\n"
     ]
    }
   ],
   "source": [
    "# selecting node with max in degree\n",
    "best_node = max(dict_deg.keys(), key=(lambda key: dict_deg[key]))\n",
    "print(\"Node: \", best_node)\n",
    "print(G.nodes[best_node])\n",
    "print(\"degree: \", dict_deg[best_node])"
   ]
  },
  {
   "cell_type": "code",
   "execution_count": 247,
   "metadata": {},
   "outputs": [
    {
     "name": "stdout",
     "output_type": "stream",
     "text": [
      "Node:  160\n",
      "{'department': 36}\n",
      "in-degree :  212\n"
     ]
    }
   ],
   "source": [
    "# selecting node with max in-degree\n",
    "best_node_in = max(dict_indeg.keys(), key=(lambda key: dict_indeg[key]))\n",
    "print(\"Node: \", best_node_in)\n",
    "print(G.nodes[best_node_in])\n",
    "print(\"in-degree : \", dict_indeg[best_node_in])"
   ]
  },
  {
   "cell_type": "code",
   "execution_count": 248,
   "metadata": {},
   "outputs": [
    {
     "name": "stdout",
     "output_type": "stream",
     "text": [
      "Node:  160\n",
      "{'department': 36}\n",
      "out-degree:  334\n"
     ]
    }
   ],
   "source": [
    "# selecting node with max out-degree\n",
    "best_node_out = max(dict_outdeg.keys(), key=(lambda key: dict_outdeg[key]))\n",
    "print(\"Node: \", best_node_out)\n",
    "print(G.nodes[best_node_out])\n",
    "print(\"out-degree: \", dict_outdeg[best_node_out])"
   ]
  },
  {
   "cell_type": "markdown",
   "metadata": {},
   "source": [
    "# Communities"
   ]
  },
  {
   "cell_type": "code",
   "execution_count": 249,
   "metadata": {},
   "outputs": [
    {
     "name": "stdout",
     "output_type": "stream",
     "text": [
      "Weak Components: 20, Giant size: 986 (0.981%)\n"
     ]
    }
   ],
   "source": [
    "#Dividing into components and finding the biggest one\n",
    "weak_components = list(nx.weakly_connected_components(G))\n",
    "weak_components_count = len(weak_components)\n",
    "weak_gcc = nx.Graph(max(nx.weakly_connected_component_subgraphs(G), key=len))\n",
    "weak_percent = len(weak_gcc.nodes()) / (len(G.nodes()))\n",
    "print(\"Weak Components: {}, Giant size: {} ({:.3f}%)\".format(weak_components_count, len(weak_gcc.nodes()), weak_percent))"
   ]
  },
  {
   "cell_type": "code",
   "execution_count": 250,
   "metadata": {},
   "outputs": [
    {
     "name": "stdout",
     "output_type": "stream",
     "text": [
      "Strong Components: 203, Giant size: 803 (0.799%)\n"
     ]
    }
   ],
   "source": [
    "#Dividing into components and finding the biggest one\n",
    "strong_components = list(nx.strongly_connected_components(G))\n",
    "strong_components_count = len(strong_components)\n",
    "strong_gcc = nx.Graph(max(nx.strongly_connected_component_subgraphs(G), key=len))\n",
    "strong_percent = len(strong_gcc.nodes()) / (len(G.nodes()))\n",
    "print(\"Strong Components: {}, Giant size: {} ({:.3f}%)\".format(strong_components_count, len(strong_gcc.nodes()), strong_percent))"
   ]
  },
  {
   "cell_type": "code",
   "execution_count": 251,
   "metadata": {},
   "outputs": [],
   "source": [
    "wgc_eccvals = nx.eccentricity(weak_gcc)\n",
    "sgc_eccvals = nx.eccentricity(strong_gcc)"
   ]
  },
  {
   "cell_type": "code",
   "execution_count": 252,
   "metadata": {},
   "outputs": [
    {
     "name": "stdout",
     "output_type": "stream",
     "text": [
      "Weak \t- diameter: 7, radius: 4\n",
      "Strong\t- diameter: 5, radius: 3\n"
     ]
    }
   ],
   "source": [
    "weak_diameter = nx.diameter(weak_gcc, wgc_eccvals)\n",
    "weak_radius = nx.radius(weak_gcc, wgc_eccvals)\n",
    "strong_diameter = nx.diameter(strong_gcc, sgc_eccvals)\n",
    "strong_radius = nx.radius(strong_gcc, sgc_eccvals)\n",
    "print(\"Weak \\t- diameter: {}, radius: {}\".format(weak_diameter, weak_radius))\n",
    "print(\"Strong\\t- diameter: {}, radius: {}\".format(strong_diameter, strong_radius))"
   ]
  },
  {
   "cell_type": "code",
   "execution_count": 253,
   "metadata": {},
   "outputs": [
    {
     "name": "stdout",
     "output_type": "stream",
     "text": [
      "WEAK CC CENTER\n",
      "[0, 1, 5, 6, 12, 13, 14, 16, 17, 18, 21, 25, 26, 27, 29, 33, 35, 37, 38, 39, 40, 41, 47, 48, 51, 52, 53, 60, 61, 62, 64, 65, 70, 74, 76, 79, 82, 83, 84, 85, 86, 87, 92, 93, 94, 95, 96, 103, 104, 105, 106, 107, 113, 114, 115, 116, 120, 121, 122, 123, 127, 128, 129, 130, 133, 135, 139, 141, 142, 143, 145, 146, 147, 148, 149, 150, 151, 153, 155, 156, 157, 160, 162, 163, 165, 166, 167, 168, 171, 172, 173, 174, 176, 177, 178, 179, 180, 181, 182, 189, 191, 196, 199, 201, 203, 204, 205, 206, 207, 211, 212, 214, 215, 218, 220, 221, 222, 223, 225, 226, 227, 228, 231, 232, 245, 249, 250, 251, 254, 255, 256, 257, 258, 261, 262, 263, 270, 275, 277, 278, 280, 282, 283, 284, 289, 290, 291, 292, 295, 296, 301, 305, 307, 308, 309, 310, 312, 314, 316, 317, 318, 320, 321, 333, 339, 340, 342, 343, 345, 346, 347, 349, 350, 351, 352, 361, 362, 365, 366, 368, 370, 373, 376, 377, 378, 379, 380, 381, 384, 385, 387, 388, 389, 390, 391, 392, 393, 394, 395, 396, 397, 402, 403, 409, 413, 417, 419, 420, 421, 422, 423, 424, 426, 427, 430, 433, 434, 437, 440, 442, 443, 444, 450, 455, 457, 458, 460, 464, 466, 473, 482, 483, 485, 486, 489, 490, 493, 494, 495, 498, 511, 515, 526, 527, 528, 533, 536, 537, 546, 547, 548, 562, 563, 572, 577, 590, 593, 601, 615, 621, 624, 644, 655, 681, 697, 706, 725, 726, 727, 730, 734, 748, 776, 789, 810, 820, 822, 847, 857, 917, 919, 922, 925, 932, 936, 950, 976, 981]\n"
     ]
    }
   ],
   "source": [
    "print(\"WEAK CC CENTER\")\n",
    "print(nx.center(weak_gcc, e=wgc_eccvals))"
   ]
  },
  {
   "cell_type": "code",
   "execution_count": 254,
   "metadata": {},
   "outputs": [
    {
     "name": "stdout",
     "output_type": "stream",
     "text": [
      "STRONG CC CENTER\n",
      "[0, 2, 3, 4, 5, 6, 7, 10, 11, 12, 13, 14, 16, 17, 19, 21, 23, 24, 28, 35, 36, 41, 42, 44, 46, 47, 51, 53, 58, 62, 63, 64, 65, 69, 74, 79, 80, 81, 82, 83, 84, 86, 87, 88, 89, 92, 93, 96, 99, 100, 103, 105, 106, 107, 113, 114, 115, 116, 121, 123, 128, 129, 131, 132, 133, 134, 135, 137, 139, 141, 142, 143, 145, 152, 153, 154, 155, 157, 158, 160, 162, 163, 165, 166, 168, 169, 170, 171, 172, 173, 174, 177, 180, 183, 184, 187, 189, 191, 196, 198, 199, 201, 206, 207, 208, 209, 210, 211, 212, 215, 218, 221, 222, 223, 226, 229, 232, 233, 236, 238, 243, 245, 249, 252, 253, 255, 256, 261, 263, 268, 269, 272, 278, 280, 282, 283, 284, 285, 286, 288, 290, 291, 292, 296, 300, 301, 303, 306, 308, 309, 312, 314, 318, 320, 325, 327, 329, 333, 338, 340, 346, 349, 351, 353, 356, 357, 362, 365, 366, 367, 371, 373, 376, 377, 379, 389, 393, 395, 397, 400, 404, 405, 408, 409, 411, 417, 419, 420, 421, 422, 423, 424, 425, 426, 427, 430, 434, 438, 440, 441, 445, 450, 458, 460, 464, 466, 473, 474, 480, 482, 483, 486, 489, 490, 493, 494, 495, 496, 498, 506, 518, 531, 533, 543, 544, 546, 548, 549, 557, 572, 601, 611, 612, 615, 681, 690, 730, 748, 812, 820, 828, 856, 859, 892, 932, 950, 971]\n"
     ]
    }
   ],
   "source": [
    "print(\"STRONG CC CENTER\")\n",
    "print(nx.center(strong_gcc, e=sgc_eccvals))\n"
   ]
  },
  {
   "cell_type": "code",
   "execution_count": 255,
   "metadata": {},
   "outputs": [],
   "source": [
    "#exporting the giant component for analysis\n",
    "giant = max(nx.strongly_connected_component_subgraphs(G), key=len)\n",
    "nx.write_graphml(giant, \"graphs/network-strong-gcc.graphml\")\n",
    "\n"
   ]
  },
  {
   "cell_type": "code",
   "execution_count": 209,
   "metadata": {},
   "outputs": [],
   "source": [
    "# Centralities"
   ]
  },
  {
   "cell_type": "code",
   "execution_count": 257,
   "metadata": {},
   "outputs": [],
   "source": [
    "dgr = nx.degree_centrality(G)\n",
    "clo = nx.closeness_centrality(G)\n",
    "eig = nx.eigenvector_centrality(G)\n",
    "bet = nx.betweenness_centrality(G)\n",
    "pgr = nx.pagerank(G)"
   ]
  },
  {
   "cell_type": "code",
   "execution_count": 265,
   "metadata": {},
   "outputs": [],
   "source": [
    "hubs,auths = nx.hits(G)"
   ]
  },
  {
   "cell_type": "code",
   "execution_count": 269,
   "metadata": {},
   "outputs": [],
   "source": [
    "GLab = G.copy()\n",
    "nx.set_node_attributes(GLab, dgr, \"degree_cent\")\n",
    "nx.set_node_attributes(GLab, clo, \"closeness\")\n",
    "nx.set_node_attributes(GLab, eig, \"eigen\")\n",
    "nx.set_node_attributes(GLab, bet, \"betweenness\")\n",
    "nx.set_node_attributes(GLab, pgr, \"pr\")\n",
    "nx.set_node_attributes(GLab, hubs, \"hub\")\n",
    "nx.set_node_attributes(GLab, auths, \"auth\")\n",
    "nx.write_graphml(GLab, \"graphs/network-strong-gcc.graphml\")"
   ]
  },
  {
   "cell_type": "code",
   "execution_count": 270,
   "metadata": {},
   "outputs": [],
   "source": [
    "# Communities"
   ]
  },
  {
   "cell_type": "code",
   "execution_count": 271,
   "metadata": {},
   "outputs": [],
   "source": [
    "import community"
   ]
  },
  {
   "cell_type": "code",
   "execution_count": 274,
   "metadata": {},
   "outputs": [],
   "source": [
    "partitions = community.best_partition(GUnd)"
   ]
  },
  {
   "cell_type": "code",
   "execution_count": 275,
   "metadata": {},
   "outputs": [
    {
     "data": {
      "text/plain": [
       "0.421183064116178"
      ]
     },
     "execution_count": 275,
     "metadata": {},
     "output_type": "execute_result"
    }
   ],
   "source": [
    "community.modularity(partitions,GUnd)"
   ]
  },
  {
   "cell_type": "code",
   "execution_count": 277,
   "metadata": {},
   "outputs": [
    {
     "data": {
      "text/plain": [
       "0    297\n",
       "3    232\n",
       "1    149\n",
       "5    136\n",
       "2     96\n",
       "dtype: int64"
      ]
     },
     "execution_count": 277,
     "metadata": {},
     "output_type": "execute_result"
    }
   ],
   "source": [
    "part_series = pd.Series(partitions)\n",
    "part_series.sort_values()\n",
    "part_series = part_series.value_counts()\n",
    "part_series.head()"
   ]
  },
  {
   "cell_type": "code",
   "execution_count": 278,
   "metadata": {},
   "outputs": [
    {
     "name": "stdout",
     "output_type": "stream",
     "text": [
      "Communities:  27\n"
     ]
    }
   ],
   "source": [
    "induced = community.induced_graph(partitions, G)\n",
    "print(\"Communities: \", len(induced.nodes()))\n",
    "community_sizes = {n: int(part_series[n]) for n in induced.nodes()}\n",
    "nx.set_node_attributes(induced, community_sizes, \"size\")"
   ]
  },
  {
   "cell_type": "code",
   "execution_count": 279,
   "metadata": {},
   "outputs": [],
   "source": [
    "nx.write_graphml(induced, \"graphs/network-communities-mod.graphml\")"
   ]
  },
  {
   "cell_type": "code",
   "execution_count": 281,
   "metadata": {},
   "outputs": [
    {
     "name": "stdout",
     "output_type": "stream",
     "text": [
      "Number of cliques:  42728\n",
      "Max clique:  18\n"
     ]
    }
   ],
   "source": [
    "#cliques\n",
    "cliques = list(nx.find_cliques(GUnd))\n",
    "cliques = sorted(cliques, key=lambda clique: -len(clique))\n",
    "print(\"Number of cliques: \", len(cliques))\n",
    "print(\"Max clique: \", len(cliques[0]))"
   ]
  },
  {
   "cell_type": "code",
   "execution_count": 282,
   "metadata": {},
   "outputs": [
    {
     "data": {
      "text/plain": [
       "[<matplotlib.lines.Line2D at 0x12828ea5c0>]"
      ]
     },
     "execution_count": 282,
     "metadata": {},
     "output_type": "execute_result"
    }
   ],
   "source": [
    "clique_sizes = [len(c) for c in cliques]\n",
    "plt.plot(np.arange(0, len(clique_sizes)), clique_sizes)"
   ]
  },
  {
   "cell_type": "code",
   "execution_count": 283,
   "metadata": {},
   "outputs": [
    {
     "name": "stdout",
     "output_type": "stream",
     "text": [
      "18 316\n"
     ]
    }
   ],
   "source": [
    "G_clique = nx.subgraph(G, cliques[0])\n",
    "print(len(G_clique), len(G_clique.edges()))\n",
    "nx.write_graphml(G_clique, \"graphs/network-clique.graphml\")"
   ]
  },
  {
   "cell_type": "code",
   "execution_count": 284,
   "metadata": {},
   "outputs": [],
   "source": [
    "#Manual communities by year\n",
    "dep_comms = dict()\n",
    "for n, att in G.nodes(data=True):\n",
    "    y = att[\"department\"]\n",
    "    if y not in dep_comms:\n",
    "        dep_comms[y] = []\n",
    "    dep_comms[y].append(n)"
   ]
  },
  {
   "cell_type": "code",
   "execution_count": 285,
   "metadata": {},
   "outputs": [],
   "source": [
    "dep_partition = []\n",
    "for vals in dep_comms.values():\n",
    "    dep_partition.append(set(vals))"
   ]
  },
  {
   "cell_type": "code",
   "execution_count": 286,
   "metadata": {},
   "outputs": [],
   "source": [
    "def data_f(B):\n",
    "    result = dict()\n",
    "    result[\"nnodes\"] = len(B)\n",
    "    result[\"department\"] = G.nodes(data=True)[next(iter(B))][\"department\"]\n",
    "    return result\n",
    "\n",
    "G_deps = nx.quotient_graph(G, dep_partition, relabel=True, node_data=data_f)"
   ]
  },
  {
   "cell_type": "code",
   "execution_count": 290,
   "metadata": {},
   "outputs": [
    {
     "name": "stdout",
     "output_type": "stream",
     "text": [
      "42 1203\n"
     ]
    }
   ],
   "source": [
    "print(len(G_deps), len(G_deps.edges()))\n",
    "nx.write_graphml(G_deps, \"graphs/network-comm-depss.graphml\")"
   ]
  },
  {
   "cell_type": "code",
   "execution_count": 291,
   "metadata": {},
   "outputs": [],
   "source": [
    "# The following code fragment calculates the dictionary and separates the keys and values into \n",
    "# two lists my_degree and their_degree:\n",
    "\n",
    "my_degree, their_degree = zip(*nx.average_degree_connectivity(G).items())"
   ]
  },
  {
   "cell_type": "code",
   "execution_count": 292,
   "metadata": {},
   "outputs": [],
   "source": [
    "k_knn = pd.concat([pd.Series(v) for v in (my_degree, their_degree)], axis=1)\n",
    "k_knn.columns = (\"k\", \"Knn(k)\")\n",
    "k_knn = k_knn.groupby(\"k\").mean().reset_index()\n",
    "plt.figure(figsize=(10,6))\n",
    "plt.scatter(k_knn[\"k\"], k_knn[\"Knn(k)\"], alpha=0.8)\n",
    "plt.xscale(\"log\")\n",
    "plt.yscale(\"log\")\n",
    "plt.ylim([1, 200])\n",
    "plt.ylabel(\"$K_{nn}(k)$\")\n",
    "plt.xlabel(\"Degree k\")\n",
    "plt.title(\"Degree assortativity\")\n",
    "plt.savefig(\"images/{}.png\".format(\"Degree assortativity\"), dpi=600)\n",
    "plt.show()"
   ]
  },
  {
   "cell_type": "code",
   "execution_count": 293,
   "metadata": {},
   "outputs": [
    {
     "data": {
      "text/plain": [
       "0.3313941805773325"
      ]
     },
     "execution_count": 293,
     "metadata": {},
     "output_type": "execute_result"
    }
   ],
   "source": [
    "nx.attribute_assortativity_coefficient(G,'department')"
   ]
  },
  {
   "cell_type": "code",
   "execution_count": 294,
   "metadata": {},
   "outputs": [
    {
     "data": {
      "text/plain": [
       "array([[  1.78327011e-02,   1.36873802e-03,   3.91068007e-05, ...,\n",
       "          0.00000000e+00,   0.00000000e+00,   0.00000000e+00],\n",
       "       [  7.43029213e-04,   2.10785656e-02,   3.51961206e-04, ...,\n",
       "          9.38563216e-04,   7.82136013e-05,   1.56427203e-04],\n",
       "       [  7.82136013e-05,   3.12854405e-04,   1.95534003e-03, ...,\n",
       "          3.91068007e-05,   0.00000000e+00,   0.00000000e+00],\n",
       "       ..., \n",
       "       [  0.00000000e+00,   1.17320402e-03,   1.17320402e-04, ...,\n",
       "          7.82136013e-05,   0.00000000e+00,   0.00000000e+00],\n",
       "       [  1.17320402e-04,   1.95534003e-04,   3.91068007e-05, ...,\n",
       "          0.00000000e+00,   5.08388409e-04,   0.00000000e+00],\n",
       "       [  0.00000000e+00,   0.00000000e+00,   0.00000000e+00, ...,\n",
       "          0.00000000e+00,   0.00000000e+00,   3.91068007e-05]])"
      ]
     },
     "execution_count": 294,
     "metadata": {},
     "output_type": "execute_result"
    }
   ],
   "source": [
    "#homophily\n",
    "nx.attribute_mixing_matrix(G, \"department\")"
   ]
  },
  {
   "cell_type": "code",
   "execution_count": null,
   "metadata": {},
   "outputs": [],
   "source": []
  }
 ],
 "metadata": {
  "kernelspec": {
   "display_name": "Python 3",
   "language": "python",
   "name": "python3"
  },
  "language_info": {
   "codemirror_mode": {
    "name": "ipython",
    "version": 3
   },
   "file_extension": ".py",
   "mimetype": "text/x-python",
   "name": "python",
   "nbconvert_exporter": "python",
   "pygments_lexer": "ipython3",
   "version": "3.6.3"
  }
 },
 "nbformat": 4,
 "nbformat_minor": 2
}
